{
  "nbformat": 4,
  "nbformat_minor": 0,
  "metadata": {
    "colab": {
      "provenance": []
    },
    "kernelspec": {
      "name": "python3",
      "display_name": "Python 3"
    },
    "language_info": {
      "name": "python"
    }
  },
  "cells": [
    {
      "cell_type": "markdown",
      "source": [
        "# **EDA: 📊 Análisis de Comentarios de TikTok**\n",
        "\n",
        "\n",
        "*   Exploración de tendencias\n",
        "*   Sentimientos y patrones en comentarios de videos\n",
        "\n"
      ],
      "metadata": {
        "id": "kMo93-WKyr6D"
      }
    },
    {
      "source": [
        "from IPython.core.display import display, HTML\n",
        "\n",
        "def show_image(url, width=400):\n",
        "    display(HTML(f\"<img src='{url}' width={width}>\"))\n",
        "\n",
        "show_image('https://i.imgur.com/zcUzPuH.png')"
      ],
      "cell_type": "code",
      "metadata": {
        "colab": {
          "base_uri": "https://localhost:8080/",
          "height": 621
        },
        "id": "Rq5LBOte6IMt",
        "outputId": "458fb321-309f-4444-8ded-ef66e26e8b82"
      },
      "execution_count": null,
      "outputs": [
        {
          "output_type": "display_data",
          "data": {
            "text/plain": [
              "<IPython.core.display.HTML object>"
            ],
            "text/html": [
              "<img src='https://i.imgur.com/zcUzPuH.png' width=400>"
            ]
          },
          "metadata": {}
        }
      ]
    },
    {
      "cell_type": "markdown",
      "source": [
        "# **1. Introducción**\n",
        "\n",
        "📌 **Objetivo:**  \n",
        "Explorar cómo los usuarios interactúan con los videos de TikTok a través de comentarios.\n",
        "\n",
        "💾**Preguntas clave:**  \n",
        "1. ¿Qué comentarios generan más engagement (likes/respuestas)?  \n",
        "2. ¿Hay horarios específicos con mayor actividad?  \n",
        "3. ¿Algún usuario destaca por su interacción?  "
      ],
      "metadata": {
        "id": "41GpowHP7R2i"
      }
    },
    {
      "cell_type": "markdown",
      "source": [
        "# Diccionario de datos\n",
        "El dataset 'ComentarioTikTok' contiene alrededor de +1000 comentarios de un video en su plataforma. A continuación, se describen las variables disponibles del video:\n",
        "\n",
        "\n",
        "| Variable            | Tipo       | Descripción |\n",
        "|---------------------|------------|-------------|\n",
        "| `user`              | Object    | Nombre de usuario |\n",
        "| `user_id`           | int    | ID del usuario |\n",
        "| `text`              | object | Comentario realizado por el usuario |\n",
        "| `like`              | int  | Cantidad de likes en un comentario |\n",
        "| `reply_count`       | int    | Cantidad de respuestas en un comentario |\n",
        "| `timestamp`         | object  | Codigo de la fecha |\n",
        "| `fecha_legible`     | object  | fecha del comentario realizado |\n",
        "\n",
        "Nota:\n",
        "\n",
        "*  `timestamp` el valor de fecha en formato de código o numérico (como marca de tiempo)\n",
        "*  `fecha_legible` convierte ese código en una fecha comprensible para humanos, mostrando día, mes y año claramente."
      ],
      "metadata": {
        "id": "n3d5lALe8kXo"
      }
    },
    {
      "cell_type": "markdown",
      "source": [
        "# 3.  **Exploración**\n",
        "\n",
        " **En este punto abarcaremos lo siguiente:**\n",
        "\n",
        "\n",
        "\n",
        "          *   3.1 Preparar el entorno para la carga del dataset desde Google Drive\n",
        "          *   3.2 Importación de librerías\n",
        "          *   3.3 Lectura del archivo (Enlace de ubicación del dataset)\n",
        "\n"
      ],
      "metadata": {
        "id": "0gdXLvV9-oAa"
      }
    },
    {
      "cell_type": "code",
      "source": [
        "# ------------------------------------------------------------------------------\n",
        "# 3.1 Conexión a Google Drive\n",
        "# ------------------------------------------------------------------------------\n",
        "\n",
        "from google.colab import drive\n",
        "drive.mount('/content/drive')"
      ],
      "metadata": {
        "colab": {
          "base_uri": "https://localhost:8080/"
        },
        "id": "XdpxxC9GPQbD",
        "outputId": "74fc467b-acee-46fb-8aef-7d4476b4a03c"
      },
      "execution_count": null,
      "outputs": [
        {
          "output_type": "stream",
          "name": "stdout",
          "text": [
            "Mounted at /content/drive\n"
          ]
        }
      ]
    },
    {
      "cell_type": "markdown",
      "source": [
        "✅ Google Drive ya está montado en /content/drive. Acceso a archivos disponible."
      ],
      "metadata": {
        "id": "nvFBb0gYPTIK"
      }
    },
    {
      "cell_type": "code",
      "source": [
        "# ------------------------------------------------------------------------------\n",
        "# 3.2 Importación de Librerías\n",
        "# ------------------------------------------------------------------------------\n",
        "\n",
        "import pandas as pd"
      ],
      "metadata": {
        "id": "q-aTGlfTPSLj"
      },
      "execution_count": null,
      "outputs": []
    },
    {
      "cell_type": "markdown",
      "source": [
        "✅ Pandas importado correctamente ¡Listo para el análisis de datos!"
      ],
      "metadata": {
        "id": "hSbRzUlkQzFY"
      }
    },
    {
      "cell_type": "code",
      "source": [
        "# ------------------------------------------------------------------------------\n",
        "# 3.3 Carga del Dataset\n",
        "# ------------------------------------------------------------------------------\n",
        "\n",
        "ruta_archivo = '/content/drive/MyDrive/COMENTARIOTIKTOK-SELECCION.csv'\n",
        "df = pd.read_csv(ruta_archivo)"
      ],
      "metadata": {
        "id": "rVc5sQ_4Q5sp"
      },
      "execution_count": null,
      "outputs": []
    },
    {
      "cell_type": "markdown",
      "source": [
        "✅ Datos de TikTok cargados en el DataFrame 'df' 📈 ¡Listo para la exploración!"
      ],
      "metadata": {
        "id": "y4h1Ixt0jqJ_"
      }
    },
    {
      "cell_type": "markdown",
      "source": [
        "# **Visualización Inicial de Datos 🔎📊**"
      ],
      "metadata": {
        "id": "RdjOb98hkfDG"
      }
    },
    {
      "cell_type": "code",
      "source": [
        "print(df.shape)\n",
        "df.head()"
      ],
      "metadata": {
        "colab": {
          "base_uri": "https://localhost:8080/",
          "height": 224
        },
        "id": "G-jy5LZFZmFn",
        "outputId": "5bd1f6d4-5431-4a13-e2d3-de4b47eebbb5"
      },
      "execution_count": null,
      "outputs": [
        {
          "output_type": "stream",
          "name": "stdout",
          "text": [
            "(1769, 7)\n"
          ]
        },
        {
          "output_type": "execute_result",
          "data": {
            "text/plain": [
              "                  user              user_id  \\\n",
              "0             skyevil6  6903611670226437121   \n",
              "1                YWH 🐐  6977605408710394885   \n",
              "2            Joseca_08  6836139685942576134   \n",
              "3  Ronal Ramos Sanchez  6786196328880817157   \n",
              "4       ♡Lu!$ @LF○N$●♧  6980168612896048134   \n",
              "\n",
              "                                                text  likes  reply_count  \\\n",
              "0  Nadie va agradecer a Zambrano por ese gran pas...   4912           37   \n",
              "1  Alianza Lima y la U le ganaron al liverpool y ...   3477           37   \n",
              "2  Para mi sonne fue el sacrificado del partido. ...   3629           22   \n",
              "3  Zambrano fue un \"crack \" y es el tipo de jugad...   1235           10   \n",
              "4  hablan de quispe pero el pase para quispe de q...   1252           40   \n",
              "\n",
              "    timestamp        fecha_legible  \n",
              "0  1728708544  2024-10-11 23:49:04  \n",
              "1  1728721058  2024-10-12 03:17:38  \n",
              "2  1728745821  2024-10-12 10:10:21  \n",
              "3  1728738245  2024-10-12 08:04:05  \n",
              "4  1728733689  2024-10-12 06:48:09  "
            ],
            "text/html": [
              "\n",
              "  <div id=\"df-129a2a5b-b926-424e-8995-ab6e4655c801\" class=\"colab-df-container\">\n",
              "    <div>\n",
              "<style scoped>\n",
              "    .dataframe tbody tr th:only-of-type {\n",
              "        vertical-align: middle;\n",
              "    }\n",
              "\n",
              "    .dataframe tbody tr th {\n",
              "        vertical-align: top;\n",
              "    }\n",
              "\n",
              "    .dataframe thead th {\n",
              "        text-align: right;\n",
              "    }\n",
              "</style>\n",
              "<table border=\"1\" class=\"dataframe\">\n",
              "  <thead>\n",
              "    <tr style=\"text-align: right;\">\n",
              "      <th></th>\n",
              "      <th>user</th>\n",
              "      <th>user_id</th>\n",
              "      <th>text</th>\n",
              "      <th>likes</th>\n",
              "      <th>reply_count</th>\n",
              "      <th>timestamp</th>\n",
              "      <th>fecha_legible</th>\n",
              "    </tr>\n",
              "  </thead>\n",
              "  <tbody>\n",
              "    <tr>\n",
              "      <th>0</th>\n",
              "      <td>skyevil6</td>\n",
              "      <td>6903611670226437121</td>\n",
              "      <td>Nadie va agradecer a Zambrano por ese gran pas...</td>\n",
              "      <td>4912</td>\n",
              "      <td>37</td>\n",
              "      <td>1728708544</td>\n",
              "      <td>2024-10-11 23:49:04</td>\n",
              "    </tr>\n",
              "    <tr>\n",
              "      <th>1</th>\n",
              "      <td>YWH 🐐</td>\n",
              "      <td>6977605408710394885</td>\n",
              "      <td>Alianza Lima y la U le ganaron al liverpool y ...</td>\n",
              "      <td>3477</td>\n",
              "      <td>37</td>\n",
              "      <td>1728721058</td>\n",
              "      <td>2024-10-12 03:17:38</td>\n",
              "    </tr>\n",
              "    <tr>\n",
              "      <th>2</th>\n",
              "      <td>Joseca_08</td>\n",
              "      <td>6836139685942576134</td>\n",
              "      <td>Para mi sonne fue el sacrificado del partido. ...</td>\n",
              "      <td>3629</td>\n",
              "      <td>22</td>\n",
              "      <td>1728745821</td>\n",
              "      <td>2024-10-12 10:10:21</td>\n",
              "    </tr>\n",
              "    <tr>\n",
              "      <th>3</th>\n",
              "      <td>Ronal Ramos Sanchez</td>\n",
              "      <td>6786196328880817157</td>\n",
              "      <td>Zambrano fue un \"crack \" y es el tipo de jugad...</td>\n",
              "      <td>1235</td>\n",
              "      <td>10</td>\n",
              "      <td>1728738245</td>\n",
              "      <td>2024-10-12 08:04:05</td>\n",
              "    </tr>\n",
              "    <tr>\n",
              "      <th>4</th>\n",
              "      <td>♡Lu!$ @LF○N$●♧</td>\n",
              "      <td>6980168612896048134</td>\n",
              "      <td>hablan de quispe pero el pase para quispe de q...</td>\n",
              "      <td>1252</td>\n",
              "      <td>40</td>\n",
              "      <td>1728733689</td>\n",
              "      <td>2024-10-12 06:48:09</td>\n",
              "    </tr>\n",
              "  </tbody>\n",
              "</table>\n",
              "</div>\n",
              "    <div class=\"colab-df-buttons\">\n",
              "\n",
              "  <div class=\"colab-df-container\">\n",
              "    <button class=\"colab-df-convert\" onclick=\"convertToInteractive('df-129a2a5b-b926-424e-8995-ab6e4655c801')\"\n",
              "            title=\"Convert this dataframe to an interactive table.\"\n",
              "            style=\"display:none;\">\n",
              "\n",
              "  <svg xmlns=\"http://www.w3.org/2000/svg\" height=\"24px\" viewBox=\"0 -960 960 960\">\n",
              "    <path d=\"M120-120v-720h720v720H120Zm60-500h600v-160H180v160Zm220 220h160v-160H400v160Zm0 220h160v-160H400v160ZM180-400h160v-160H180v160Zm440 0h160v-160H620v160ZM180-180h160v-160H180v160Zm440 0h160v-160H620v160Z\"/>\n",
              "  </svg>\n",
              "    </button>\n",
              "\n",
              "  <style>\n",
              "    .colab-df-container {\n",
              "      display:flex;\n",
              "      gap: 12px;\n",
              "    }\n",
              "\n",
              "    .colab-df-convert {\n",
              "      background-color: #E8F0FE;\n",
              "      border: none;\n",
              "      border-radius: 50%;\n",
              "      cursor: pointer;\n",
              "      display: none;\n",
              "      fill: #1967D2;\n",
              "      height: 32px;\n",
              "      padding: 0 0 0 0;\n",
              "      width: 32px;\n",
              "    }\n",
              "\n",
              "    .colab-df-convert:hover {\n",
              "      background-color: #E2EBFA;\n",
              "      box-shadow: 0px 1px 2px rgba(60, 64, 67, 0.3), 0px 1px 3px 1px rgba(60, 64, 67, 0.15);\n",
              "      fill: #174EA6;\n",
              "    }\n",
              "\n",
              "    .colab-df-buttons div {\n",
              "      margin-bottom: 4px;\n",
              "    }\n",
              "\n",
              "    [theme=dark] .colab-df-convert {\n",
              "      background-color: #3B4455;\n",
              "      fill: #D2E3FC;\n",
              "    }\n",
              "\n",
              "    [theme=dark] .colab-df-convert:hover {\n",
              "      background-color: #434B5C;\n",
              "      box-shadow: 0px 1px 3px 1px rgba(0, 0, 0, 0.15);\n",
              "      filter: drop-shadow(0px 1px 2px rgba(0, 0, 0, 0.3));\n",
              "      fill: #FFFFFF;\n",
              "    }\n",
              "  </style>\n",
              "\n",
              "    <script>\n",
              "      const buttonEl =\n",
              "        document.querySelector('#df-129a2a5b-b926-424e-8995-ab6e4655c801 button.colab-df-convert');\n",
              "      buttonEl.style.display =\n",
              "        google.colab.kernel.accessAllowed ? 'block' : 'none';\n",
              "\n",
              "      async function convertToInteractive(key) {\n",
              "        const element = document.querySelector('#df-129a2a5b-b926-424e-8995-ab6e4655c801');\n",
              "        const dataTable =\n",
              "          await google.colab.kernel.invokeFunction('convertToInteractive',\n",
              "                                                    [key], {});\n",
              "        if (!dataTable) return;\n",
              "\n",
              "        const docLinkHtml = 'Like what you see? Visit the ' +\n",
              "          '<a target=\"_blank\" href=https://colab.research.google.com/notebooks/data_table.ipynb>data table notebook</a>'\n",
              "          + ' to learn more about interactive tables.';\n",
              "        element.innerHTML = '';\n",
              "        dataTable['output_type'] = 'display_data';\n",
              "        await google.colab.output.renderOutput(dataTable, element);\n",
              "        const docLink = document.createElement('div');\n",
              "        docLink.innerHTML = docLinkHtml;\n",
              "        element.appendChild(docLink);\n",
              "      }\n",
              "    </script>\n",
              "  </div>\n",
              "\n",
              "\n",
              "    <div id=\"df-b1ee2a62-61b8-4ebc-952f-83e198a84aba\">\n",
              "      <button class=\"colab-df-quickchart\" onclick=\"quickchart('df-b1ee2a62-61b8-4ebc-952f-83e198a84aba')\"\n",
              "                title=\"Suggest charts\"\n",
              "                style=\"display:none;\">\n",
              "\n",
              "<svg xmlns=\"http://www.w3.org/2000/svg\" height=\"24px\"viewBox=\"0 0 24 24\"\n",
              "     width=\"24px\">\n",
              "    <g>\n",
              "        <path d=\"M19 3H5c-1.1 0-2 .9-2 2v14c0 1.1.9 2 2 2h14c1.1 0 2-.9 2-2V5c0-1.1-.9-2-2-2zM9 17H7v-7h2v7zm4 0h-2V7h2v10zm4 0h-2v-4h2v4z\"/>\n",
              "    </g>\n",
              "</svg>\n",
              "      </button>\n",
              "\n",
              "<style>\n",
              "  .colab-df-quickchart {\n",
              "      --bg-color: #E8F0FE;\n",
              "      --fill-color: #1967D2;\n",
              "      --hover-bg-color: #E2EBFA;\n",
              "      --hover-fill-color: #174EA6;\n",
              "      --disabled-fill-color: #AAA;\n",
              "      --disabled-bg-color: #DDD;\n",
              "  }\n",
              "\n",
              "  [theme=dark] .colab-df-quickchart {\n",
              "      --bg-color: #3B4455;\n",
              "      --fill-color: #D2E3FC;\n",
              "      --hover-bg-color: #434B5C;\n",
              "      --hover-fill-color: #FFFFFF;\n",
              "      --disabled-bg-color: #3B4455;\n",
              "      --disabled-fill-color: #666;\n",
              "  }\n",
              "\n",
              "  .colab-df-quickchart {\n",
              "    background-color: var(--bg-color);\n",
              "    border: none;\n",
              "    border-radius: 50%;\n",
              "    cursor: pointer;\n",
              "    display: none;\n",
              "    fill: var(--fill-color);\n",
              "    height: 32px;\n",
              "    padding: 0;\n",
              "    width: 32px;\n",
              "  }\n",
              "\n",
              "  .colab-df-quickchart:hover {\n",
              "    background-color: var(--hover-bg-color);\n",
              "    box-shadow: 0 1px 2px rgba(60, 64, 67, 0.3), 0 1px 3px 1px rgba(60, 64, 67, 0.15);\n",
              "    fill: var(--button-hover-fill-color);\n",
              "  }\n",
              "\n",
              "  .colab-df-quickchart-complete:disabled,\n",
              "  .colab-df-quickchart-complete:disabled:hover {\n",
              "    background-color: var(--disabled-bg-color);\n",
              "    fill: var(--disabled-fill-color);\n",
              "    box-shadow: none;\n",
              "  }\n",
              "\n",
              "  .colab-df-spinner {\n",
              "    border: 2px solid var(--fill-color);\n",
              "    border-color: transparent;\n",
              "    border-bottom-color: var(--fill-color);\n",
              "    animation:\n",
              "      spin 1s steps(1) infinite;\n",
              "  }\n",
              "\n",
              "  @keyframes spin {\n",
              "    0% {\n",
              "      border-color: transparent;\n",
              "      border-bottom-color: var(--fill-color);\n",
              "      border-left-color: var(--fill-color);\n",
              "    }\n",
              "    20% {\n",
              "      border-color: transparent;\n",
              "      border-left-color: var(--fill-color);\n",
              "      border-top-color: var(--fill-color);\n",
              "    }\n",
              "    30% {\n",
              "      border-color: transparent;\n",
              "      border-left-color: var(--fill-color);\n",
              "      border-top-color: var(--fill-color);\n",
              "      border-right-color: var(--fill-color);\n",
              "    }\n",
              "    40% {\n",
              "      border-color: transparent;\n",
              "      border-right-color: var(--fill-color);\n",
              "      border-top-color: var(--fill-color);\n",
              "    }\n",
              "    60% {\n",
              "      border-color: transparent;\n",
              "      border-right-color: var(--fill-color);\n",
              "    }\n",
              "    80% {\n",
              "      border-color: transparent;\n",
              "      border-right-color: var(--fill-color);\n",
              "      border-bottom-color: var(--fill-color);\n",
              "    }\n",
              "    90% {\n",
              "      border-color: transparent;\n",
              "      border-bottom-color: var(--fill-color);\n",
              "    }\n",
              "  }\n",
              "</style>\n",
              "\n",
              "      <script>\n",
              "        async function quickchart(key) {\n",
              "          const quickchartButtonEl =\n",
              "            document.querySelector('#' + key + ' button');\n",
              "          quickchartButtonEl.disabled = true;  // To prevent multiple clicks.\n",
              "          quickchartButtonEl.classList.add('colab-df-spinner');\n",
              "          try {\n",
              "            const charts = await google.colab.kernel.invokeFunction(\n",
              "                'suggestCharts', [key], {});\n",
              "          } catch (error) {\n",
              "            console.error('Error during call to suggestCharts:', error);\n",
              "          }\n",
              "          quickchartButtonEl.classList.remove('colab-df-spinner');\n",
              "          quickchartButtonEl.classList.add('colab-df-quickchart-complete');\n",
              "        }\n",
              "        (() => {\n",
              "          let quickchartButtonEl =\n",
              "            document.querySelector('#df-b1ee2a62-61b8-4ebc-952f-83e198a84aba button');\n",
              "          quickchartButtonEl.style.display =\n",
              "            google.colab.kernel.accessAllowed ? 'block' : 'none';\n",
              "        })();\n",
              "      </script>\n",
              "    </div>\n",
              "\n",
              "    </div>\n",
              "  </div>\n"
            ],
            "application/vnd.google.colaboratory.intrinsic+json": {
              "type": "dataframe",
              "variable_name": "df",
              "summary": "{\n  \"name\": \"df\",\n  \"rows\": 1769,\n  \"fields\": [\n    {\n      \"column\": \"user\",\n      \"properties\": {\n        \"dtype\": \"string\",\n        \"num_unique_values\": 1498,\n        \"samples\": [\n          \"Saavedra Rachel\",\n          \"Iori Yagami\",\n          \"Martin Paredes\"\n        ],\n        \"semantic_type\": \"\",\n        \"description\": \"\"\n      }\n    },\n    {\n      \"column\": \"user_id\",\n      \"properties\": {\n        \"dtype\": \"number\",\n        \"std\": 1011667680294336128,\n        \"min\": 80957395090206720,\n        \"max\": 7456925956906697733,\n        \"num_unique_values\": 1509,\n        \"samples\": [\n          6871004353572389893,\n          7027947213964837894,\n          6750702206326539269\n        ],\n        \"semantic_type\": \"\",\n        \"description\": \"\"\n      }\n    },\n    {\n      \"column\": \"text\",\n      \"properties\": {\n        \"dtype\": \"string\",\n        \"num_unique_values\": 1357,\n        \"samples\": [\n          \"esa visi\\u00f3n de juego de Zambrano otro level\",\n          \"Ahora si veo que juegan de coraz\\u00f3n. Y no por compromiso\",\n          \"Bien Quispe y Araujo\"\n        ],\n        \"semantic_type\": \"\",\n        \"description\": \"\"\n      }\n    },\n    {\n      \"column\": \"likes\",\n      \"properties\": {\n        \"dtype\": \"number\",\n        \"std\": 183,\n        \"min\": 0,\n        \"max\": 4912,\n        \"num_unique_values\": 46,\n        \"samples\": [\n          19,\n          55,\n          4\n        ],\n        \"semantic_type\": \"\",\n        \"description\": \"\"\n      }\n    },\n    {\n      \"column\": \"reply_count\",\n      \"properties\": {\n        \"dtype\": \"number\",\n        \"std\": 4,\n        \"min\": 0,\n        \"max\": 168,\n        \"num_unique_values\": 18,\n        \"samples\": [\n          37,\n          22,\n          13\n        ],\n        \"semantic_type\": \"\",\n        \"description\": \"\"\n      }\n    },\n    {\n      \"column\": \"timestamp\",\n      \"properties\": {\n        \"dtype\": \"number\",\n        \"std\": 2010383,\n        \"min\": 1728706516,\n        \"max\": 1742861579,\n        \"num_unique_values\": 1552,\n        \"samples\": [\n          1728717329,\n          1728952576,\n          1728828398\n        ],\n        \"semantic_type\": \"\",\n        \"description\": \"\"\n      }\n    },\n    {\n      \"column\": \"fecha_legible\",\n      \"properties\": {\n        \"dtype\": \"object\",\n        \"num_unique_values\": 1552,\n        \"samples\": [\n          \"2024-10-12 02:15:29\",\n          \"2024-10-14 19:36:16\",\n          \"2024-10-13 09:06:38\"\n        ],\n        \"semantic_type\": \"\",\n        \"description\": \"\"\n      }\n    }\n  ]\n}"
            }
          },
          "metadata": {},
          "execution_count": 5
        }
      ]
    },
    {
      "cell_type": "markdown",
      "source": [
        "Se cargó el dataset 📂 de TikTok con éxito ✅ y se visualizó un resumen inicial 📈 con dimensiones 📏 y primeras filas 🔢."
      ],
      "metadata": {
        "id": "M9edHVmvnThd"
      }
    },
    {
      "cell_type": "markdown",
      "source": [
        "# **📖 Información del dataset**\n",
        "\n",
        "A travéz de `df.info()` se revelará la estructura del dataset: columnas, tipos de datos y valores no nulos."
      ],
      "metadata": {
        "id": "RPVMCpWoncwM"
      }
    },
    {
      "cell_type": "code",
      "source": [
        "df.info()"
      ],
      "metadata": {
        "colab": {
          "base_uri": "https://localhost:8080/"
        },
        "id": "GP_-_ZmJnvPH",
        "outputId": "4d118457-6c57-4b7e-944f-c998e6345ebd"
      },
      "execution_count": null,
      "outputs": [
        {
          "output_type": "stream",
          "name": "stdout",
          "text": [
            "<class 'pandas.core.frame.DataFrame'>\n",
            "RangeIndex: 1769 entries, 0 to 1768\n",
            "Data columns (total 7 columns):\n",
            " #   Column         Non-Null Count  Dtype \n",
            "---  ------         --------------  ----- \n",
            " 0   user           1769 non-null   object\n",
            " 1   user_id        1769 non-null   int64 \n",
            " 2   text           1769 non-null   object\n",
            " 3   likes          1769 non-null   int64 \n",
            " 4   reply_count    1769 non-null   int64 \n",
            " 5   timestamp      1769 non-null   int64 \n",
            " 6   fecha_legible  1769 non-null   object\n",
            "dtypes: int64(4), object(3)\n",
            "memory usage: 96.9+ KB\n"
          ]
        }
      ]
    },
    {
      "cell_type": "markdown",
      "source": [
        "📊 `df.info()` reveló:\n",
        "```\n",
        "# 1769 comentarios 🗣️ en 7 columnas 🗂️ (usuario, texto, likes, número de respuestas, etc.). Sin datos faltantes 👌.\n",
        "```"
      ],
      "metadata": {
        "id": "gE30AEmRoN10"
      }
    },
    {
      "cell_type": "markdown",
      "source": [
        "# **🧹 Limpieza de Datos**\n",
        "En esta etapa, prepararemos los datos para el análisis, abordando los siguientes puntos:"
      ],
      "metadata": {
        "id": "bhD-CcNx7Im_"
      }
    },
    {
      "cell_type": "markdown",
      "source": [
        "En esta etapa, prepararemos los datos para el análisis, abordando los siguientes puntos:\n",
        "\n",
        "*   **Objetivo:** Identificar y, si es necesario, eliminar o traducir comentarios que no estén en español.\n",
        "*   **Herramientas:** Podemos utilizar librerías como langdetect para detectar el idioma de cada comentario. Si la mayoría de los datos están en español, podemos filtrar los que no lo estén. En caso de necesitar la información de los comentarios en otros idiomas, podríamos explorar opciones de traducción automática."
      ],
      "metadata": {
        "id": "wsnH9bBZ7Qk5"
      }
    },
    {
      "cell_type": "markdown",
      "source": [
        "Para detectar el idioma se necesita instalar la librería `langdetect` utilizando `pip`, el gestor de paquetes de Python."
      ],
      "metadata": {
        "id": "VpgtiwLG8Ift"
      }
    },
    {
      "source": [
        "!pip install langdetect"
      ],
      "cell_type": "code",
      "metadata": {
        "colab": {
          "base_uri": "https://localhost:8080/"
        },
        "id": "GXZ_7gXe7_qi",
        "outputId": "bbdd7458-5207-4a71-fd7f-288d26c30daa"
      },
      "execution_count": null,
      "outputs": [
        {
          "output_type": "stream",
          "name": "stdout",
          "text": [
            "Collecting langdetect\n",
            "  Downloading langdetect-1.0.9.tar.gz (981 kB)\n",
            "\u001b[?25l     \u001b[90m━━━━━━━━━━━━━━━━━━━━━━━━━━━━━━━━━━━━━━━━\u001b[0m \u001b[32m0.0/981.5 kB\u001b[0m \u001b[31m?\u001b[0m eta \u001b[36m-:--:--\u001b[0m\r\u001b[2K     \u001b[91m━━━━━━━━━━━━━━━━━━━━━━━━━━━━━━━━━━━━━\u001b[0m\u001b[91m╸\u001b[0m \u001b[32m972.8/981.5 kB\u001b[0m \u001b[31m37.6 MB/s\u001b[0m eta \u001b[36m0:00:01\u001b[0m\r\u001b[2K     \u001b[90m━━━━━━━━━━━━━━━━━━━━━━━━━━━━━━━━━━━━━━\u001b[0m \u001b[32m981.5/981.5 kB\u001b[0m \u001b[31m20.9 MB/s\u001b[0m eta \u001b[36m0:00:00\u001b[0m\n",
            "\u001b[?25h  Preparing metadata (setup.py) ... \u001b[?25l\u001b[?25hdone\n",
            "Requirement already satisfied: six in /usr/local/lib/python3.11/dist-packages (from langdetect) (1.17.0)\n",
            "Building wheels for collected packages: langdetect\n",
            "  Building wheel for langdetect (setup.py) ... \u001b[?25l\u001b[?25hdone\n",
            "  Created wheel for langdetect: filename=langdetect-1.0.9-py3-none-any.whl size=993223 sha256=29941c7fdcb22280ae199720e8739945536961b4325b792ea03d211e2a740760\n",
            "  Stored in directory: /root/.cache/pip/wheels/0a/f2/b2/e5ca405801e05eb7c8ed5b3b4bcf1fcabcd6272c167640072e\n",
            "Successfully built langdetect\n",
            "Installing collected packages: langdetect\n",
            "Successfully installed langdetect-1.0.9\n"
          ]
        }
      ]
    },
    {
      "source": [
        "from langdetect import detect\n",
        "\n",
        "# Ejemplo: Detectar el idioma de un comentario\n",
        "idioma = detect(\"Este es un ejemplo en español\")\n",
        "print(idioma)  # Salida: es"
      ],
      "cell_type": "code",
      "metadata": {
        "colab": {
          "base_uri": "https://localhost:8080/"
        },
        "id": "a7yXZlNs7rxk",
        "outputId": "5894fc20-d627-4ffb-9466-94d15af924e9"
      },
      "execution_count": null,
      "outputs": [
        {
          "output_type": "stream",
          "name": "stdout",
          "text": [
            "es\n"
          ]
        }
      ]
    },
    {
      "cell_type": "markdown",
      "source": [
        "Se ha detectado el idioma: `ES`"
      ],
      "metadata": {
        "id": "rByMae3J9YKP"
      }
    },
    {
      "cell_type": "markdown",
      "source": [
        "# **2. Recopilación de comentarios con emoticonos y creación de un diccionario**\n",
        "\n",
        "`Objetivo: `\n",
        "\n",
        "Identificar y extraer los emoticonos presentes en los comentarios, creando un diccionario para su análisis posterior.\n",
        "\n",
        "`Herramientas:`\n",
        "\n",
        "Usaremos expresiones regulares o la librería emoji para extraer los emoticonos. Luego, crearemos un diccionario que mapee cada emoticono a su significado o categoría (por ejemplo, alegría, tristeza, etc.). Esto facilitará el análisis de la frecuencia y el significado de los emoticonos en los comentarios."
      ],
      "metadata": {
        "id": "3I05JFKaGHFX"
      }
    },
    {
      "cell_type": "markdown",
      "source": [
        "**\"emoji\" se instala para detectar emoticonos en texto.**"
      ],
      "metadata": {
        "id": "l2M91QqIE-BQ"
      }
    },
    {
      "source": [
        "!pip install emoji"
      ],
      "cell_type": "code",
      "metadata": {
        "colab": {
          "base_uri": "https://localhost:8080/"
        },
        "id": "WN-xIvg0AOuj",
        "outputId": "66ef2d48-fa40-446c-aed0-7c62058f6530"
      },
      "execution_count": null,
      "outputs": [
        {
          "output_type": "stream",
          "name": "stdout",
          "text": [
            "Collecting emoji\n",
            "  Downloading emoji-2.14.1-py3-none-any.whl.metadata (5.7 kB)\n",
            "Downloading emoji-2.14.1-py3-none-any.whl (590 kB)\n",
            "\u001b[?25l   \u001b[90m━━━━━━━━━━━━━━━━━━━━━━━━━━━━━━━━━━━━━━━━\u001b[0m \u001b[32m0.0/590.6 kB\u001b[0m \u001b[31m?\u001b[0m eta \u001b[36m-:--:--\u001b[0m\r\u001b[2K   \u001b[91m━━━━━━━━━━━━━━━━━━━━━━━━━━━━━━━━━━━━━━━\u001b[0m\u001b[91m╸\u001b[0m \u001b[32m583.7/590.6 kB\u001b[0m \u001b[31m17.9 MB/s\u001b[0m eta \u001b[36m0:00:01\u001b[0m\r\u001b[2K   \u001b[90m━━━━━━━━━━━━━━━━━━━━━━━━━━━━━━━━━━━━━━━━\u001b[0m \u001b[32m590.6/590.6 kB\u001b[0m \u001b[31m8.6 MB/s\u001b[0m eta \u001b[36m0:00:00\u001b[0m\n",
            "\u001b[?25hInstalling collected packages: emoji\n",
            "Successfully installed emoji-2.14.1\n"
          ]
        }
      ]
    },
    {
      "cell_type": "markdown",
      "source": [
        "**Actualización:\n",
        "Confirma que la versión 2.14.1 ya está instalada.**"
      ],
      "metadata": {
        "id": "8W-vZi6nFD5j"
      }
    },
    {
      "source": [
        "!pip install --upgrade emoji"
      ],
      "cell_type": "code",
      "metadata": {
        "colab": {
          "base_uri": "https://localhost:8080/"
        },
        "id": "lVZGkVbcAb-R",
        "outputId": "ae64c278-d215-438f-cec5-2951dd2c5f6e"
      },
      "execution_count": null,
      "outputs": [
        {
          "output_type": "stream",
          "name": "stdout",
          "text": [
            "Requirement already satisfied: emoji in /usr/local/lib/python3.11/dist-packages (2.14.1)\n"
          ]
        }
      ]
    },
    {
      "source": [
        "import emoji\n",
        "\n",
        "# Ejemplo: Extraer emoticonos de un comentario\n",
        "texto = \"Me encanta este video! 😂👍\"\n",
        "emojis = [c for c in texto if c in emoji.EMOJI_DATA]  # Cambio aquí\n",
        "print(emojis)  # Salida: ['😂', '👍']"
      ],
      "cell_type": "code",
      "metadata": {
        "colab": {
          "base_uri": "https://localhost:8080/"
        },
        "id": "9Zsd6drwAhPd",
        "outputId": "2ece2ed6-a59a-4ee6-b4de-5b9ef438f5af"
      },
      "execution_count": null,
      "outputs": [
        {
          "output_type": "stream",
          "name": "stdout",
          "text": [
            "['😂', '👍']\n"
          ]
        }
      ]
    },
    {
      "cell_type": "markdown",
      "source": [
        "**Resultado:**\n",
        "`Muestra los emoticonos encontrados: 😊 y 🟠.`"
      ],
      "metadata": {
        "id": "jDYRJXpXFOAH"
      }
    },
    {
      "cell_type": "markdown",
      "source": [
        "**Extración de emojis de los comentarios**"
      ],
      "metadata": {
        "id": "3R7GpEkTTl_O"
      }
    },
    {
      "source": [
        "def extraer_emojis(texto):\n",
        "    return [c for c in texto if c in emoji.EMOJI_DATA]\n",
        "\n",
        "df['emojis'] = df['text'].apply(extraer_emojis)"
      ],
      "cell_type": "code",
      "metadata": {
        "id": "-EXV7xFZU8Tj"
      },
      "execution_count": null,
      "outputs": []
    },
    {
      "cell_type": "markdown",
      "source": [
        "Definimos una función extraer_emojis para encontrar todos los emojis en un texto dado.\n",
        "Aplicamos esta función a la columna text de tu DataFrame (df) y guardamos los resultados en una nueva columna llamada emojis."
      ],
      "metadata": {
        "id": "svQaBRBDVBo_"
      }
    },
    {
      "cell_type": "markdown",
      "source": [
        "😀😃Creamos el diccionario de emojis😄😁"
      ],
      "metadata": {
        "id": "1ANfVuC9VFJt"
      }
    },
    {
      "source": [
        "diccionario_emojis = {}\n",
        "\n",
        "for lista_emojis in df['emojis']:\n",
        "    for emoji_individual in lista_emojis:\n",
        "        if emoji_individual in diccionario_emojis:\n",
        "            diccionario_emojis[emoji_individual] += 1  # Si ya existe, aumenta el contador\n",
        "        else:\n",
        "            diccionario_emojis[emoji_individual] = 1   # Si no existe, lo agrega con contador 1\n",
        "\n",
        "print(diccionario_emojis)  # Imprime el diccionario para ver los resultados"
      ],
      "cell_type": "code",
      "metadata": {
        "colab": {
          "base_uri": "https://localhost:8080/"
        },
        "id": "QOx7GMLaVZEi",
        "outputId": "79d02311-53ef-414a-d567-0aa2cd8f4548"
      },
      "execution_count": null,
      "outputs": [
        {
          "output_type": "stream",
          "name": "stdout",
          "text": [
            "{'💀': 29, '🗿': 4, '😌': 9, '🥺': 55, '💪': 76, '👏': 175, '🥚': 3, '❤': 252, '🙌': 7, '😅': 46, '🤷': 2, '🏻': 27, '♂': 2, '🦁': 7, '🥰': 266, '💙': 13, '🤍': 12, '🗣': 3, '🤣': 79, '😏': 22, '👌': 12, '👍': 98, '🏾': 4, '💯': 36, '😭': 127, '🔥': 32, '🔱': 1, '🏼': 15, '😎': 52, '😔': 4, '🙏': 55, '😳': 56, '😮': 3, '💨': 3, '🫂': 1, '😁': 67, '🤔': 15, '🤭': 10, '✌': 6, '✨': 13, '😬': 4, '😂': 126, '💗': 8, '☹': 4, '😘': 5, '😃': 17, '😛': 1, '🏆': 3, '😍': 37, '⚽': 18, '🏃': 1, '‼': 11, '🤜': 1, '🤛': 1, '😒': 1, '🛐': 2, '🛰': 2, '👀': 3, '♥': 34, '💕': 10, '💜': 8, '🤗': 28, '🙃': 1, '😜': 5, '💛': 3, '😯': 2, '🤦': 2, '\\U0001faf8': 2, '\\U0001faf7': 2, '💔': 1, '🫶': 11, '😢': 14, '😑': 1, '🥹': 12, '👻': 1, '⚡': 1, '🤙': 2, '😄': 8, '😉': 7, '🤩': 10, '😥': 3, '🍀': 6, '☺': 4, '💖': 5, '🪂': 1, '🙂': 3, '🤪': 2, '😈': 1, '😆': 20, '🙄': 8, '💩': 1, '👋': 6, '🥵': 1, '🤞': 2, '😡': 1, '🥅': 2, '☝': 1, '🥳': 3, '👑': 6, '😇': 4, '😻': 8, '🫡': 2, '🏽': 7, '👉': 1, '👈': 1, '👊': 1, '🩹': 1, '🤚': 1, '😫': 3, '😱': 9, '😊': 4, '❓': 1, '😞': 6, '🥶': 1, '🫵': 2, '🤫': 1, '😹': 3, '🆙': 1, '😩': 2, '⚾': 1, '🙈': 2, '🎮': 1, '🤐': 2, '🤡': 1, '🥸': 1, '🎩': 1, '🪄': 1, '🥲': 1, '🌙': 1, '🔟': 1, '🥴': 2, '🤧': 1, '🤕': 1, '🤬': 2, '🌽': 1, '🐼': 1, '🌹': 1, '✊': 4, '🍻': 1, '🎉': 2}\n"
          ]
        }
      ]
    },
    {
      "source": [
        "# Crea el DataFrame df_emojis\n",
        "df_emojis = pd.DataFrame(list(diccionario_emojis.items()), columns=['Emoji', 'Frecuencia'])\n",
        "\n",
        "# Configura las opciones de visualización de Pandas\n",
        "pd.set_option(\"display.max_rows\", None)\n",
        "pd.set_option(\"display.max_columns\", None)\n",
        "\n",
        "# Imprime el DataFrame\n",
        "print(df_emojis.to_string())"
      ],
      "cell_type": "code",
      "metadata": {
        "colab": {
          "base_uri": "https://localhost:8080/"
        },
        "id": "EWgdBvN5mELI",
        "outputId": "51ac610e-598b-4951-8ace-e6565cf7d62f"
      },
      "execution_count": null,
      "outputs": [
        {
          "output_type": "stream",
          "name": "stdout",
          "text": [
            "    Emoji  Frecuencia\n",
            "0       💀          29\n",
            "1       🗿           4\n",
            "2       😌           9\n",
            "3       🥺          55\n",
            "4       💪          76\n",
            "5       👏         175\n",
            "6       🥚           3\n",
            "7       ❤         252\n",
            "8       🙌           7\n",
            "9       😅          46\n",
            "10      🤷           2\n",
            "11      🏻          27\n",
            "12      ♂           2\n",
            "13      🦁           7\n",
            "14      🥰         266\n",
            "15      💙          13\n",
            "16      🤍          12\n",
            "17      🗣           3\n",
            "18      🤣          79\n",
            "19      😏          22\n",
            "20      👌          12\n",
            "21      👍          98\n",
            "22      🏾           4\n",
            "23      💯          36\n",
            "24      😭         127\n",
            "25      🔥          32\n",
            "26      🔱           1\n",
            "27      🏼          15\n",
            "28      😎          52\n",
            "29      😔           4\n",
            "30      🙏          55\n",
            "31      😳          56\n",
            "32      😮           3\n",
            "33      💨           3\n",
            "34      🫂           1\n",
            "35      😁          67\n",
            "36      🤔          15\n",
            "37      🤭          10\n",
            "38      ✌           6\n",
            "39      ✨          13\n",
            "40      😬           4\n",
            "41      😂         126\n",
            "42      💗           8\n",
            "43      ☹           4\n",
            "44      😘           5\n",
            "45      😃          17\n",
            "46      😛           1\n",
            "47      🏆           3\n",
            "48      😍          37\n",
            "49      ⚽          18\n",
            "50      🏃           1\n",
            "51      ‼          11\n",
            "52      🤜           1\n",
            "53      🤛           1\n",
            "54      😒           1\n",
            "55      🛐           2\n",
            "56      🛰           2\n",
            "57      👀           3\n",
            "58      ♥          34\n",
            "59      💕          10\n",
            "60      💜           8\n",
            "61      🤗          28\n",
            "62      🙃           1\n",
            "63      😜           5\n",
            "64      💛           3\n",
            "65      😯           2\n",
            "66      🤦           2\n",
            "67      🫸           2\n",
            "68      🫷           2\n",
            "69      💔           1\n",
            "70      🫶          11\n",
            "71      😢          14\n",
            "72      😑           1\n",
            "73      🥹          12\n",
            "74      👻           1\n",
            "75      ⚡           1\n",
            "76      🤙           2\n",
            "77      😄           8\n",
            "78      😉           7\n",
            "79      🤩          10\n",
            "80      😥           3\n",
            "81      🍀           6\n",
            "82      ☺           4\n",
            "83      💖           5\n",
            "84      🪂           1\n",
            "85      🙂           3\n",
            "86      🤪           2\n",
            "87      😈           1\n",
            "88      😆          20\n",
            "89      🙄           8\n",
            "90      💩           1\n",
            "91      👋           6\n",
            "92      🥵           1\n",
            "93      🤞           2\n",
            "94      😡           1\n",
            "95      🥅           2\n",
            "96      ☝           1\n",
            "97      🥳           3\n",
            "98      👑           6\n",
            "99      😇           4\n",
            "100     😻           8\n",
            "101     🫡           2\n",
            "102     🏽           7\n",
            "103     👉           1\n",
            "104     👈           1\n",
            "105     👊           1\n",
            "106     🩹           1\n",
            "107     🤚           1\n",
            "108     😫           3\n",
            "109     😱           9\n",
            "110     😊           4\n",
            "111     ❓           1\n",
            "112     😞           6\n",
            "113     🥶           1\n",
            "114     🫵           2\n",
            "115     🤫           1\n",
            "116     😹           3\n",
            "117     🆙           1\n",
            "118     😩           2\n",
            "119     ⚾           1\n",
            "120     🙈           2\n",
            "121     🎮           1\n",
            "122     🤐           2\n",
            "123     🤡           1\n",
            "124     🥸           1\n",
            "125     🎩           1\n",
            "126     🪄           1\n",
            "127     🥲           1\n",
            "128     🌙           1\n",
            "129     🔟           1\n",
            "130     🥴           2\n",
            "131     🤧           1\n",
            "132     🤕           1\n",
            "133     🤬           2\n",
            "134     🌽           1\n",
            "135     🐼           1\n",
            "136     🌹           1\n",
            "137     ✊           4\n",
            "138     🍻           1\n",
            "139     🎉           2\n"
          ]
        }
      ]
    },
    {
      "cell_type": "markdown",
      "source": [
        "# **3. Tokenización, lematización, limpieza de palabras vacías y generación de Word Embeddings con spaCy**\n",
        "\n",
        "`Objetivo:`\n",
        "\n",
        "Preparar el texto para el análisis, incluyendo la generación de word embeddings que representen las palabras como vectores numéricos.\n",
        "\n",
        "`Herramientas:`\n",
        "\n",
        "Utilizaremos spaCy para tokenizar, lematizar y eliminar palabras vacías. Además, aprovecharemos la capacidad de spaCy para generar word embeddings pre-entrenados o entrenar nuevos embeddings específicos para el dataset de TikTok. Los word embeddings capturan el significado semántico de las palabras, permitiendo realizar análisis más avanzados como la similitud entre palabras o la detección de temas."
      ],
      "metadata": {
        "id": "Y348yZ1hGcHc"
      }
    },
    {
      "source": [
        "!python -m spacy download es_core_news_md"
      ],
      "cell_type": "code",
      "metadata": {
        "id": "sl27px3WOkkV",
        "colab": {
          "base_uri": "https://localhost:8080/"
        },
        "outputId": "dfa1e5b9-f386-4382-bf7b-2de3c0db0395"
      },
      "execution_count": null,
      "outputs": [
        {
          "output_type": "stream",
          "name": "stdout",
          "text": [
            "Collecting es-core-news-md==3.8.0\n",
            "  Downloading https://github.com/explosion/spacy-models/releases/download/es_core_news_md-3.8.0/es_core_news_md-3.8.0-py3-none-any.whl (42.3 MB)\n",
            "\u001b[2K     \u001b[90m━━━━━━━━━━━━━━━━━━━━━━━━━━━━━━━━━━━━━━━━\u001b[0m \u001b[32m42.3/42.3 MB\u001b[0m \u001b[31m17.4 MB/s\u001b[0m eta \u001b[36m0:00:00\u001b[0m\n",
            "\u001b[?25hInstalling collected packages: es-core-news-md\n",
            "Successfully installed es-core-news-md-3.8.0\n",
            "\u001b[38;5;2m✔ Download and installation successful\u001b[0m\n",
            "You can now load the package via spacy.load('es_core_news_md')\n",
            "\u001b[38;5;3m⚠ Restart to reload dependencies\u001b[0m\n",
            "If you are in a Jupyter or Colab notebook, you may need to restart Python in\n",
            "order to load all the package's dependencies. You can do this by selecting the\n",
            "'Restart kernel' or 'Restart runtime' option.\n"
          ]
        }
      ]
    },
    {
      "cell_type": "markdown",
      "source": [
        "**Importar y Cargar el Modelo de spaCy 🧰**"
      ],
      "metadata": {
        "id": "V49QwHL-Ql_h"
      }
    },
    {
      "source": [
        "import spacy\n",
        "\n",
        "nlp = spacy.load(\"es_core_news_md\")  # Carga modelo con word embeddings"
      ],
      "cell_type": "code",
      "metadata": {
        "id": "g9Hh0a9IQlKJ"
      },
      "execution_count": null,
      "outputs": []
    },
    {
      "cell_type": "markdown",
      "source": [
        "✅ Importando la biblioteca spaCy y cargando el modelo de lenguaje español. Bitácora: Se ha importado spaCy y se ha cargado el modelo \"es_core_news_md\" que contiene información sobre el idioma español y word embeddings pre-entrenados."
      ],
      "metadata": {
        "id": "ko4N2XfaQsmY"
      }
    },
    {
      "cell_type": "markdown",
      "source": [
        "**Limpiar y Generar Embeddings: Una Función Mágica ✨**"
      ],
      "metadata": {
        "id": "qQqZhxHIQxvR"
      }
    },
    {
      "cell_type": "markdown",
      "source": [
        "**‼️🎯 Breve ejemplo de word embedding: 🎯‼️**\n",
        "\n",
        "\n",
        "Imagina que \"gato\" se representa con los números [0.5, 0.8, -0.2] y \"perro\" con [0.6, 0.7, -0.1].\n",
        "\n",
        "Como los números son parecidos, la computadora entiende que \"gato\" y \"perro\" son conceptos relacionados (animales).\n",
        "\n",
        "¡Eso es word embedding! Convertir palabras en números con significado. 🪄"
      ],
      "metadata": {
        "id": "MV9QxmoNSIj5"
      }
    },
    {
      "source": [
        "def limpiar_texto_y_generar_embeddings(texto):\n",
        "    doc = nlp(texto)\n",
        "    tokens = [token.lemma_ for token in doc if not token.is_stop and not token.is_punct]\n",
        "    texto_limpio = \" \".join(tokens)\n",
        "    embedding = doc.vector  # Obtiene el word embedding del documento\n",
        "    return texto_limpio, embedding"
      ],
      "cell_type": "code",
      "metadata": {
        "id": "nblh8vpUQ0Ht"
      },
      "execution_count": null,
      "outputs": []
    },
    {
      "cell_type": "markdown",
      "source": [
        "Se ha definido la función `limpiar_texto_y_generar_embeddings` que recibirá un texto, lo limpiará y generará su representación numérica (embedding). 🪄"
      ],
      "metadata": {
        "id": "JDC9ahR6Q2g-"
      }
    },
    {
      "cell_type": "markdown",
      "source": [
        "**\"Hola Mundo\" en Números 🔢**"
      ],
      "metadata": {
        "id": "GmuhSw-lQ6Zl"
      }
    },
    {
      "source": [
        "texto_original = \"Hola mundo, este es un ejemplo sencillo.\"\n",
        "texto_limpio, embedding = limpiar_texto_y_generar_embeddings(texto_original)\n",
        "print(\"Texto limpio:\", texto_limpio)\n",
        "print(\"\\nWord Embedding (Ejemplo):\", embedding[:5]) # Mostramos solo las primeras 5 dimensiones del embedding"
      ],
      "cell_type": "code",
      "metadata": {
        "colab": {
          "base_uri": "https://localhost:8080/"
        },
        "id": "U7vikI3mRCxh",
        "outputId": "189516ae-ba43-4629-ce60-fb55c053ff3d"
      },
      "execution_count": null,
      "outputs": [
        {
          "output_type": "stream",
          "name": "stdout",
          "text": [
            "Texto limpio: Hola mundo ejemplo sencillo\n",
            "\n",
            "Word Embedding (Ejemplo): [-0.59945995  0.82850105 -2.811138    1.5797311  -1.1554353 ]\n"
          ]
        }
      ]
    },
    {
      "cell_type": "markdown",
      "source": [
        "*   Se definió el texto \"Hola mundo, este es un ejemplo sencillo.\" 💬\n",
        "*   Se aplicó la función limpiar_texto_y_generar_embeddings para obtener el texto limpio (\"hola mundo ejemplo sencillo\") y su embedding. 🧹\n",
        "*   Se imprimió el texto limpio y las primeras 5 dimensiones del embedding para visualizar un ejemplo de su representación numérica. 📊\n",
        "\n"
      ],
      "metadata": {
        "id": "qD7GhrdiRUiZ"
      }
    },
    {
      "cell_type": "markdown",
      "source": [
        "***🖇️ Ejemplo utilizando el Dataset de TikTok***"
      ],
      "metadata": {
        "id": "V2EVhg2hpRWx"
      }
    },
    {
      "source": [
        "# Obtén los primeros 5 comentarios\n",
        "comentarios = df['text'].head(5).tolist()\n",
        "#------------------------------------------------------------------------------\n",
        "\n",
        "# Procesa los comentarios con spaCy y obtén los embeddings\n",
        "embeddings = [nlp(texto).vector for texto in comentarios]\n",
        "#------------------------------------------------------------------------------\n",
        "# Muestra la forma del embedding del primer comentario\n",
        "print(\"Forma del embedding:\", embeddings[0].shape)\n",
        "#------------------------------------------------------------------------------\n",
        "# Muestra las primeras 10 dimensiones del embedding del primer comentario\n",
        "print(\"Primeras 10 dimensiones:\", embeddings[0][:10])\n",
        "#------------------------------------------------------------------------------\n",
        "# Imprime los comentarios y sus embeddings correspondientes\n",
        "for i in range(len(comentarios)):\n",
        "    print(f\"\\nComentario {i+1}: {comentarios[i]}\")\n",
        "    print(f\"Embedding: {embeddings[i][:10]}...\") # Mostramos solo las primeras 10 dimensiones"
      ],
      "cell_type": "code",
      "metadata": {
        "colab": {
          "base_uri": "https://localhost:8080/"
        },
        "id": "2lcn_EPRm6tl",
        "outputId": "d42b6758-ae49-4fb0-cc6a-860a54fe06de"
      },
      "execution_count": null,
      "outputs": [
        {
          "output_type": "stream",
          "name": "stdout",
          "text": [
            "Forma del embedding: (300,)\n",
            "Primeras 10 dimensiones: [ 1.4017578   1.0962886  -0.31833303  0.28743652 -0.00327521 -1.4068167\n",
            "  0.75603485  1.0569735   0.04694959  0.6418027 ]\n",
            "\n",
            "Comentario 1: Nadie va agradecer a Zambrano por ese gran pase a Quispe y el centrar a Araujo para que meta el gol? 💀\n",
            "Embedding: [ 1.4017578   1.0962886  -0.31833303  0.28743652 -0.00327521 -1.4068167\n",
            "  0.75603485  1.0569735   0.04694959  0.6418027 ]...\n",
            "\n",
            "Comentario 2: Alianza Lima y la U le ganaron al liverpool y al Real Madrid 🗿\n",
            "Embedding: [ 2.2939868   1.2247286   0.39095074  0.10078853  1.4145957   0.55793077\n",
            "  0.6823471  -0.95815426  2.333762    0.6546613 ]...\n",
            "\n",
            "Comentario 3: Para mi sonne fue el sacrificado del partido. Jugó de lateral, central, medio derecho, medio izquierdo, mediocampista, punta y extremo. Vean donde estaba en todo el partido. Sin duda alguna, diferente\n",
            "Embedding: [ 1.1052463   1.363045   -0.0395394  -0.10237775  0.30325165 -0.5519848\n",
            "  0.13116316  0.9384802  -0.15251848  0.43142527]...\n",
            "\n",
            "Comentario 4: Zambrano fue un \"crack \" y es el tipo de jugador que nos hacía falta .\n",
            "Embedding: [ 0.23737122  1.7341654  -1.5624734   0.44048744 -0.9049678  -0.58592606\n",
            "  0.42920527  0.60298234 -0.76301163  0.43752888]...\n",
            "\n",
            "Comentario 5: hablan de quispe pero el pase para quispe de quien fue!!!!! del León Zambrano...... q tal pase a los pies de Quispe\n",
            "Embedding: [ 0.55935687 -0.2848204   0.37356895  0.36330009 -0.79891205 -1.0891229\n",
            "  0.36927322  1.0373828   0.6498345  -0.04376104]...\n"
          ]
        }
      ]
    },
    {
      "cell_type": "markdown",
      "source": [
        "**✴️ Resultados interpretados:**\n",
        "\n",
        "*   Cada comentario se transforma en un vector numérico de 300 dimensiones (su embedding).\n",
        "*   Comentarios con significados similares tendrán embeddings numéricamente cercanos.\n",
        "*   Estos embeddings se pueden usar para análisis como: encontrar comentarios similares, agrupar por temas, analizar sentimientos, etc."
      ],
      "metadata": {
        "id": "Ji3c1qb7nmCg"
      }
    },
    {
      "cell_type": "markdown",
      "source": [],
      "metadata": {
        "id": "3n4IeEhvnnvF"
      }
    }
  ]
}