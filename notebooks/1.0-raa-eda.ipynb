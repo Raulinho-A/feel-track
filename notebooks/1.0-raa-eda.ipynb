{
 "cells": [
  {
   "cell_type": "code",
   "execution_count": 1,
   "id": "d08d11da",
   "metadata": {},
   "outputs": [],
   "source": [
    "%load_ext autoreload\n",
    "%autoreload 2"
   ]
  },
  {
   "cell_type": "code",
   "execution_count": 2,
   "id": "c11781eb",
   "metadata": {},
   "outputs": [
    {
     "data": {
      "text/html": [
       "<img src='https://i.imgur.com/XLD0c0o.png' width=1600>"
      ],
      "text/plain": [
       "<IPython.core.display.HTML object>"
      ]
     },
     "metadata": {},
     "output_type": "display_data"
    }
   ],
   "source": [
    "from review_analyzer.plots import show_image\n",
    "\n",
    "show_image('https://i.imgur.com/XLD0c0o.png')"
   ]
  },
  {
   "cell_type": "markdown",
   "id": "ca8b4ef0",
   "metadata": {},
   "source": [
    "# 1. Descripción del Problema\n",
    "\n",
    "El proyecto desarrolla un sistema que analiza emociones y perspectiva (positiva o negativa) en reseñas online sobre productos y servicios, usando NLP y machine learning, para generar insights útiles a marcas y negocios."
   ]
  },
  {
   "cell_type": "markdown",
   "id": "71abe718",
   "metadata": {},
   "source": [
    "Diccionario de datos\n",
    "| Variable            | Tipo       | Descripción |\n",
    "|---------------------|------------|-------------|\n",
    "| `user`              | Object    | Nombre de usuario |\n",
    "| `user_id`           | int    | ID del usuario |\n",
    "| `text`              | object | Comentario realizado por el usuario |\n",
    "| `like`              | int  | Cantidad de likes en un comentario |\n",
    "| `reply_count`       | int    | Cantidad de respuestas en un comentario |\n",
    "| `timestamp`         | object  | Codigo de la fecha |\n",
    "| `fecha_legible`     | object  | fecha del comentario realizado |"
   ]
  },
  {
   "cell_type": "markdown",
   "id": "ecb087ab",
   "metadata": {},
   "source": [
    "# 2. Exploración general\n",
    "\n",
    "Dataset: Datos obtenidos mediante consulta a las APIs oficiales de plataformas digitales, integrados y preparados para el EDA y limpieza."
   ]
  },
  {
   "cell_type": "code",
   "execution_count": 3,
   "id": "f7785f9b",
   "metadata": {},
   "outputs": [],
   "source": [
    "from review_analyzer.config import TIKTOK_COMMENTS\n",
    "import pandas as pd\n"
   ]
  },
  {
   "cell_type": "code",
   "execution_count": 4,
   "id": "41cb9c04",
   "metadata": {},
   "outputs": [
    {
     "data": {
      "text/html": [
       "<div>\n",
       "<style scoped>\n",
       "    .dataframe tbody tr th:only-of-type {\n",
       "        vertical-align: middle;\n",
       "    }\n",
       "\n",
       "    .dataframe tbody tr th {\n",
       "        vertical-align: top;\n",
       "    }\n",
       "\n",
       "    .dataframe thead th {\n",
       "        text-align: right;\n",
       "    }\n",
       "</style>\n",
       "<table border=\"1\" class=\"dataframe\">\n",
       "  <thead>\n",
       "    <tr style=\"text-align: right;\">\n",
       "      <th></th>\n",
       "      <th>user</th>\n",
       "      <th>comment</th>\n",
       "      <th>time</th>\n",
       "      <th>likes</th>\n",
       "      <th>reply_count</th>\n",
       "      <th>origen</th>\n",
       "    </tr>\n",
       "  </thead>\n",
       "  <tbody>\n",
       "    <tr>\n",
       "      <th>0</th>\n",
       "      <td>Joel Equiño Espinoza.</td>\n",
       "      <td>le gana sauvage dior ufff perfumaso .</td>\n",
       "      <td>2025-02-21 10:25:01</td>\n",
       "      <td>296</td>\n",
       "      <td>28</td>\n",
       "      <td>comments-perfume.csv</td>\n",
       "    </tr>\n",
       "    <tr>\n",
       "      <th>1</th>\n",
       "      <td>Klaus Heinz</td>\n",
       "      <td>Si lo dice Flavia laos prefiero usar Yanbal 😅😅😅</td>\n",
       "      <td>2025-02-21 19:53:11</td>\n",
       "      <td>400</td>\n",
       "      <td>15</td>\n",
       "      <td>comments-perfume.csv</td>\n",
       "    </tr>\n",
       "    <tr>\n",
       "      <th>2</th>\n",
       "      <td>jozahel</td>\n",
       "      <td>Me dejan el precio ? No me dejen su Wsp que no...</td>\n",
       "      <td>2025-02-21 08:29:51</td>\n",
       "      <td>337</td>\n",
       "      <td>38</td>\n",
       "      <td>comments-perfume.csv</td>\n",
       "    </tr>\n",
       "    <tr>\n",
       "      <th>3</th>\n",
       "      <td>Pilar Acha Mendez</td>\n",
       "      <td>Cuál es su precio?</td>\n",
       "      <td>2025-02-21 20:20:06</td>\n",
       "      <td>4</td>\n",
       "      <td>11</td>\n",
       "      <td>comments-perfume.csv</td>\n",
       "    </tr>\n",
       "    <tr>\n",
       "      <th>4</th>\n",
       "      <td>Bas 🫀</td>\n",
       "      <td>El olor no perdura, pero si huele muy rico, mu...</td>\n",
       "      <td>2025-02-21 10:56:35</td>\n",
       "      <td>15</td>\n",
       "      <td>23</td>\n",
       "      <td>comments-perfume.csv</td>\n",
       "    </tr>\n",
       "  </tbody>\n",
       "</table>\n",
       "</div>"
      ],
      "text/plain": [
       "                    user                                            comment  \\\n",
       "0  Joel Equiño Espinoza.              le gana sauvage dior ufff perfumaso .   \n",
       "1            Klaus Heinz    Si lo dice Flavia laos prefiero usar Yanbal 😅😅😅   \n",
       "2                jozahel  Me dejan el precio ? No me dejen su Wsp que no...   \n",
       "3      Pilar Acha Mendez                                 Cuál es su precio?   \n",
       "4                  Bas 🫀  El olor no perdura, pero si huele muy rico, mu...   \n",
       "\n",
       "                  time  likes  reply_count                origen  \n",
       "0  2025-02-21 10:25:01    296           28  comments-perfume.csv  \n",
       "1  2025-02-21 19:53:11    400           15  comments-perfume.csv  \n",
       "2  2025-02-21 08:29:51    337           38  comments-perfume.csv  \n",
       "3  2025-02-21 20:20:06      4           11  comments-perfume.csv  \n",
       "4  2025-02-21 10:56:35     15           23  comments-perfume.csv  "
      ]
     },
     "execution_count": 4,
     "metadata": {},
     "output_type": "execute_result"
    }
   ],
   "source": [
    "df = pd.read_csv(TIKTOK_COMMENTS)\n",
    "df.head()"
   ]
  },
  {
   "cell_type": "code",
   "execution_count": 5,
   "id": "04a39ff0",
   "metadata": {},
   "outputs": [
    {
     "name": "stdout",
     "output_type": "stream",
     "text": [
      "<class 'pandas.core.frame.DataFrame'>\n",
      "RangeIndex: 4651 entries, 0 to 4650\n",
      "Data columns (total 6 columns):\n",
      " #   Column       Non-Null Count  Dtype \n",
      "---  ------       --------------  ----- \n",
      " 0   user         4650 non-null   object\n",
      " 1   comment      4651 non-null   object\n",
      " 2   time         4651 non-null   object\n",
      " 3   likes        4651 non-null   int64 \n",
      " 4   reply_count  4651 non-null   int64 \n",
      " 5   origen       4651 non-null   object\n",
      "dtypes: int64(2), object(4)\n",
      "memory usage: 218.1+ KB\n"
     ]
    }
   ],
   "source": [
    "df.info()"
   ]
  },
  {
   "cell_type": "code",
   "execution_count": 6,
   "id": "2883b3b4",
   "metadata": {},
   "outputs": [],
   "source": [
    "df['comment_length'] = df['comment'].astype(str).apply(len)"
   ]
  },
  {
   "cell_type": "code",
   "execution_count": 7,
   "id": "b8fb206d",
   "metadata": {},
   "outputs": [],
   "source": [
    "from review_analyzer.plots import plot_histo"
   ]
  },
  {
   "cell_type": "code",
   "execution_count": 8,
   "id": "8f453bc9",
   "metadata": {},
   "outputs": [
    {
     "data": {
      "image/png": "[encoded data removed]",
      "text/plain": [
       "<Figure size 1000x500 with 1 Axes>"
      ]
     },
     "metadata": {},
     "output_type": "display_data"
    }
   ],
   "source": [
    "plot_histo(df, 'comment_length')"
   ]
  },
  {
   "cell_type": "markdown",
   "id": "cb8c8ed1",
   "metadata": {},
   "source": [
    "La gran mayoría de comentarios tienen menos de 20 caracteres.\n",
    "\n",
    "A partir de los ~100 caracteres, la frecuencia cae casi a cero, y solo aparecen unos pocos comentarios muy largos (outliers).\n",
    "\n",
    "Tal vez valga la pena establecer un límite superior de longitud para filtrar entradas irrelevantes."
   ]
  },
  {
   "cell_type": "code",
   "execution_count": 9,
   "id": "7293414d",
   "metadata": {},
   "outputs": [],
   "source": [
    "from review_analyzer.plots import plot_comments_by_time"
   ]
  },
  {
   "cell_type": "code",
   "execution_count": 10,
   "id": "7dd5634c",
   "metadata": {},
   "outputs": [],
   "source": [
    "df['time'] = pd.to_datetime(df['time'], errors='coerce')"
   ]
  },
  {
   "cell_type": "code",
   "execution_count": 11,
   "id": "5447fc57",
   "metadata": {},
   "outputs": [
    {
     "data": {
      "image/png": "[encoded data removed]",
      "text/plain": [
       "<Figure size 1200x600 with 1 Axes>"
      ]
     },
     "metadata": {},
     "output_type": "display_data"
    },
    {
     "data": {
      "image/png": "[encoded data removed]",
      "text/plain": [
       "<Figure size 1200x600 with 1 Axes>"
      ]
     },
     "metadata": {},
     "output_type": "display_data"
    }
   ],
   "source": [
    "plot_comments_by_time(df, time_column='time', period='M')\n",
    "plot_comments_by_time(df, time_column='time', period='Y')\n"
   ]
  },
  {
   "cell_type": "markdown",
   "id": "9aff77f0",
   "metadata": {},
   "source": [
    "Los comentarios no están distribuidos uniformemente en el tiempo: la mayoría de los datos provienen de 2024 y 2025, mientras que 2023 tiene menor representación, por lo que es importante considerar el sesgo temporal al analizar y modelar los datos."
   ]
  },
  {
   "cell_type": "code",
   "execution_count": 12,
   "id": "08ca735d",
   "metadata": {},
   "outputs": [
    {
     "data": {
      "text/html": [
       "<div>\n",
       "<style scoped>\n",
       "    .dataframe tbody tr th:only-of-type {\n",
       "        vertical-align: middle;\n",
       "    }\n",
       "\n",
       "    .dataframe tbody tr th {\n",
       "        vertical-align: top;\n",
       "    }\n",
       "\n",
       "    .dataframe thead th {\n",
       "        text-align: right;\n",
       "    }\n",
       "</style>\n",
       "<table border=\"1\" class=\"dataframe\">\n",
       "  <thead>\n",
       "    <tr style=\"text-align: right;\">\n",
       "      <th></th>\n",
       "      <th>time</th>\n",
       "      <th>likes</th>\n",
       "      <th>reply_count</th>\n",
       "      <th>comment_length</th>\n",
       "    </tr>\n",
       "  </thead>\n",
       "  <tbody>\n",
       "    <tr>\n",
       "      <th>count</th>\n",
       "      <td>4651</td>\n",
       "      <td>4651.000000</td>\n",
       "      <td>4651.000000</td>\n",
       "      <td>4651.000000</td>\n",
       "    </tr>\n",
       "    <tr>\n",
       "      <th>mean</th>\n",
       "      <td>2024-10-24 19:16:20.322081280</td>\n",
       "      <td>3.874006</td>\n",
       "      <td>0.199097</td>\n",
       "      <td>23.452376</td>\n",
       "    </tr>\n",
       "    <tr>\n",
       "      <th>min</th>\n",
       "      <td>2023-11-29 19:59:12</td>\n",
       "      <td>0.000000</td>\n",
       "      <td>0.000000</td>\n",
       "      <td>1.000000</td>\n",
       "    </tr>\n",
       "    <tr>\n",
       "      <th>25%</th>\n",
       "      <td>2024-09-19 16:26:40.500000</td>\n",
       "      <td>0.000000</td>\n",
       "      <td>0.000000</td>\n",
       "      <td>4.000000</td>\n",
       "    </tr>\n",
       "    <tr>\n",
       "      <th>50%</th>\n",
       "      <td>2024-11-27 19:27:25</td>\n",
       "      <td>0.000000</td>\n",
       "      <td>0.000000</td>\n",
       "      <td>12.000000</td>\n",
       "    </tr>\n",
       "    <tr>\n",
       "      <th>75%</th>\n",
       "      <td>2025-02-22 09:10:39</td>\n",
       "      <td>0.000000</td>\n",
       "      <td>0.000000</td>\n",
       "      <td>31.000000</td>\n",
       "    </tr>\n",
       "    <tr>\n",
       "      <th>max</th>\n",
       "      <td>2025-04-30 22:25:32</td>\n",
       "      <td>3140.000000</td>\n",
       "      <td>38.000000</td>\n",
       "      <td>317.000000</td>\n",
       "    </tr>\n",
       "    <tr>\n",
       "      <th>std</th>\n",
       "      <td>NaN</td>\n",
       "      <td>66.311410</td>\n",
       "      <td>1.589186</td>\n",
       "      <td>30.278358</td>\n",
       "    </tr>\n",
       "  </tbody>\n",
       "</table>\n",
       "</div>"
      ],
      "text/plain": [
       "                                time        likes  reply_count  comment_length\n",
       "count                           4651  4651.000000  4651.000000     4651.000000\n",
       "mean   2024-10-24 19:16:20.322081280     3.874006     0.199097       23.452376\n",
       "min              2023-11-29 19:59:12     0.000000     0.000000        1.000000\n",
       "25%       2024-09-19 16:26:40.500000     0.000000     0.000000        4.000000\n",
       "50%              2024-11-27 19:27:25     0.000000     0.000000       12.000000\n",
       "75%              2025-02-22 09:10:39     0.000000     0.000000       31.000000\n",
       "max              2025-04-30 22:25:32  3140.000000    38.000000      317.000000\n",
       "std                              NaN    66.311410     1.589186       30.278358"
      ]
     },
     "execution_count": 12,
     "metadata": {},
     "output_type": "execute_result"
    }
   ],
   "source": [
    "df.describe()"
   ]
  },
  {
   "cell_type": "markdown",
   "id": "cf3ee32d",
   "metadata": {},
   "source": [
    "- La mayoría de los comentarios son cortos, sin likes ni respuestas.\n",
    "\n",
    "- Existen pocos comentarios “virales” con muchos likes o respuestas, que elevan los máximos y promedios.\n",
    "\n",
    "- El promedio es 23.45 caracteres, con mediana de 12, lo que indica que la distribución está sesgada a la derecha (algunos comentarios son muy largos y elevan el promedio).\n",
    "\n",
    "- El engagement general (likes y replies) es bajo para la mayoría, pero los outliers dominan las métricas agregadas."
   ]
  },
  {
   "cell_type": "code",
   "execution_count": 13,
   "id": "5a2a81b6",
   "metadata": {},
   "outputs": [],
   "source": [
    "from review_analyzer.plots import plot_correlation_scatter"
   ]
  },
  {
   "cell_type": "code",
   "execution_count": 14,
   "id": "3809cf70",
   "metadata": {},
   "outputs": [
    {
     "data": {
      "image/png": "[encoded data removed]",
      "text/plain": [
       "<Figure size 800x600 with 1 Axes>"
      ]
     },
     "metadata": {},
     "output_type": "display_data"
    }
   ],
   "source": [
    "plot_correlation_scatter(df, 'likes', 'reply_count', color='green')"
   ]
  },
  {
   "cell_type": "markdown",
   "id": "010d071c",
   "metadata": {},
   "source": [
    "No se observa una correlación clara entre likes y reply_count: la mayoría de los comentarios tiene valores bajos, y los casos con muchos likes no muestran un aumento proporcional en respuestas."
   ]
  },
  {
   "cell_type": "code",
   "execution_count": 15,
   "id": "02545b8e",
   "metadata": {},
   "outputs": [],
   "source": [
    "from review_analyzer.plots import plot_language_distribution"
   ]
  },
  {
   "cell_type": "code",
   "execution_count": 16,
   "id": "358853d0",
   "metadata": {},
   "outputs": [
    {
     "data": {
      "image/png": "[encoded data removed]",
      "text/plain": [
       "<Figure size 1000x500 with 1 Axes>"
      ]
     },
     "metadata": {},
     "output_type": "display_data"
    }
   ],
   "source": [
    "plot_language_distribution(df['comment'], sample_size=500)"
   ]
  },
  {
   "cell_type": "markdown",
   "id": "63bb366a",
   "metadata": {},
   "source": [
    "La mayoría de los comentarios están en español, con muy poca representación de otros idiomas; se puede trabajar principalmente sobre datos en español sin necesidad de procesamiento multilingüe general."
   ]
  },
  {
   "cell_type": "markdown",
   "id": "cb9f15e3",
   "metadata": {},
   "source": [
    "### Resumen general\n",
    "- La mayoría de los comentarios son cortos (mediana ≈12 caracteres) y no generan likes ni respuestas; el engagement promedio es bajo, pero existen outliers que distorsionan las métricas (máximos muy altos).\n",
    "\n",
    "- Los histogramas muestran una distribución sesgada, donde pocos comentarios concentran mucha interacción.\n",
    "- El scatterplot entre likes y reply_count sugiere una relación débil o ruidosa: la mayoría de los puntos se agrupan en valores bajos, sin una tendencia clara.\n",
    "- Se recomienda detectar el idioma de los comentarios porque, aunque se asume que la mayoría será en español por contexto temporal y geográfico (2024-2025), es necesario confirmarlo para preparar procesos de limpieza y el análisis de sentimiento."
   ]
  },
  {
   "cell_type": "code",
   "execution_count": 17,
   "id": "2dccc295",
   "metadata": {},
   "outputs": [],
   "source": [
    "from review_analyzer.config import EXP_SNAPSHOT_PATH"
   ]
  },
  {
   "cell_type": "code",
   "execution_count": 18,
   "id": "2e2fce2f",
   "metadata": {},
   "outputs": [],
   "source": [
    "df.to_csv(EXP_SNAPSHOT_PATH, index=False, encoding='utf-8')"
   ]
  },
  {
   "cell_type": "markdown",
   "id": "946c2cb5",
   "metadata": {},
   "source": [
    "# 3. Limpieza y Preprocesamiento\n",
    "\n"
   ]
  },
  {
   "cell_type": "code",
   "execution_count": 19,
   "id": "870ead83",
   "metadata": {},
   "outputs": [
    {
     "data": {
      "text/html": [
       "<div>\n",
       "<style scoped>\n",
       "    .dataframe tbody tr th:only-of-type {\n",
       "        vertical-align: middle;\n",
       "    }\n",
       "\n",
       "    .dataframe tbody tr th {\n",
       "        vertical-align: top;\n",
       "    }\n",
       "\n",
       "    .dataframe thead th {\n",
       "        text-align: right;\n",
       "    }\n",
       "</style>\n",
       "<table border=\"1\" class=\"dataframe\">\n",
       "  <thead>\n",
       "    <tr style=\"text-align: right;\">\n",
       "      <th></th>\n",
       "      <th>user</th>\n",
       "      <th>comment</th>\n",
       "      <th>time</th>\n",
       "      <th>likes</th>\n",
       "      <th>reply_count</th>\n",
       "      <th>origen</th>\n",
       "      <th>comment_length</th>\n",
       "    </tr>\n",
       "  </thead>\n",
       "  <tbody>\n",
       "    <tr>\n",
       "      <th>0</th>\n",
       "      <td>Joel Equiño Espinoza.</td>\n",
       "      <td>le gana sauvage dior ufff perfumaso .</td>\n",
       "      <td>2025-02-21 10:25:01</td>\n",
       "      <td>296</td>\n",
       "      <td>28</td>\n",
       "      <td>comments-perfume.csv</td>\n",
       "      <td>37</td>\n",
       "    </tr>\n",
       "    <tr>\n",
       "      <th>1</th>\n",
       "      <td>Klaus Heinz</td>\n",
       "      <td>Si lo dice Flavia laos prefiero usar Yanbal 😅😅😅</td>\n",
       "      <td>2025-02-21 19:53:11</td>\n",
       "      <td>400</td>\n",
       "      <td>15</td>\n",
       "      <td>comments-perfume.csv</td>\n",
       "      <td>47</td>\n",
       "    </tr>\n",
       "    <tr>\n",
       "      <th>2</th>\n",
       "      <td>jozahel</td>\n",
       "      <td>Me dejan el precio ? No me dejen su Wsp que no...</td>\n",
       "      <td>2025-02-21 08:29:51</td>\n",
       "      <td>337</td>\n",
       "      <td>38</td>\n",
       "      <td>comments-perfume.csv</td>\n",
       "      <td>99</td>\n",
       "    </tr>\n",
       "    <tr>\n",
       "      <th>3</th>\n",
       "      <td>Pilar Acha Mendez</td>\n",
       "      <td>Cuál es su precio?</td>\n",
       "      <td>2025-02-21 20:20:06</td>\n",
       "      <td>4</td>\n",
       "      <td>11</td>\n",
       "      <td>comments-perfume.csv</td>\n",
       "      <td>18</td>\n",
       "    </tr>\n",
       "    <tr>\n",
       "      <th>4</th>\n",
       "      <td>Bas 🫀</td>\n",
       "      <td>El olor no perdura, pero si huele muy rico, mu...</td>\n",
       "      <td>2025-02-21 10:56:35</td>\n",
       "      <td>15</td>\n",
       "      <td>23</td>\n",
       "      <td>comments-perfume.csv</td>\n",
       "      <td>126</td>\n",
       "    </tr>\n",
       "  </tbody>\n",
       "</table>\n",
       "</div>"
      ],
      "text/plain": [
       "                    user                                            comment  \\\n",
       "0  Joel Equiño Espinoza.              le gana sauvage dior ufff perfumaso .   \n",
       "1            Klaus Heinz    Si lo dice Flavia laos prefiero usar Yanbal 😅😅😅   \n",
       "2                jozahel  Me dejan el precio ? No me dejen su Wsp que no...   \n",
       "3      Pilar Acha Mendez                                 Cuál es su precio?   \n",
       "4                  Bas 🫀  El olor no perdura, pero si huele muy rico, mu...   \n",
       "\n",
       "                  time  likes  reply_count                origen  \\\n",
       "0  2025-02-21 10:25:01    296           28  comments-perfume.csv   \n",
       "1  2025-02-21 19:53:11    400           15  comments-perfume.csv   \n",
       "2  2025-02-21 08:29:51    337           38  comments-perfume.csv   \n",
       "3  2025-02-21 20:20:06      4           11  comments-perfume.csv   \n",
       "4  2025-02-21 10:56:35     15           23  comments-perfume.csv   \n",
       "\n",
       "   comment_length  \n",
       "0              37  \n",
       "1              47  \n",
       "2              99  \n",
       "3              18  \n",
       "4             126  "
      ]
     },
     "execution_count": 19,
     "metadata": {},
     "output_type": "execute_result"
    }
   ],
   "source": [
    "df = pd.read_csv(EXP_SNAPSHOT_PATH)\n",
    "df.head()"
   ]
  },
  {
   "cell_type": "code",
   "execution_count": 20,
   "id": "3b0a99ab",
   "metadata": {},
   "outputs": [
    {
     "data": {
      "text/plain": [
       "(4651, 7)"
      ]
     },
     "execution_count": 20,
     "metadata": {},
     "output_type": "execute_result"
    }
   ],
   "source": [
    "df.shape"
   ]
  },
  {
   "cell_type": "code",
   "execution_count": 21,
   "id": "c8618b88",
   "metadata": {},
   "outputs": [],
   "source": [
    "import emoji"
   ]
  },
  {
   "cell_type": "code",
   "execution_count": 22,
   "id": "ae17b7d2",
   "metadata": {},
   "outputs": [
    {
     "data": {
      "text/html": [
       "<div>\n",
       "<style scoped>\n",
       "    .dataframe tbody tr th:only-of-type {\n",
       "        vertical-align: middle;\n",
       "    }\n",
       "\n",
       "    .dataframe tbody tr th {\n",
       "        vertical-align: top;\n",
       "    }\n",
       "\n",
       "    .dataframe thead th {\n",
       "        text-align: right;\n",
       "    }\n",
       "</style>\n",
       "<table border=\"1\" class=\"dataframe\">\n",
       "  <thead>\n",
       "    <tr style=\"text-align: right;\">\n",
       "      <th></th>\n",
       "      <th>comment</th>\n",
       "    </tr>\n",
       "  </thead>\n",
       "  <tbody>\n",
       "    <tr>\n",
       "      <th>1</th>\n",
       "      <td>Si lo dice Flavia laos prefiero usar Yanbal 😅😅😅</td>\n",
       "    </tr>\n",
       "    <tr>\n",
       "      <th>4</th>\n",
       "      <td>El olor no perdura, pero si huele muy rico, mu...</td>\n",
       "    </tr>\n",
       "    <tr>\n",
       "      <th>7</th>\n",
       "      <td>400 so quien dice Yooo ❓</td>\n",
       "    </tr>\n",
       "    <tr>\n",
       "      <th>9</th>\n",
       "      <td>yo soy fiel a mi Axe de chocolate 😌😌😌</td>\n",
       "    </tr>\n",
       "    <tr>\n",
       "      <th>12</th>\n",
       "      <td>gente sean sincero le gana al one millon?🤔🤔</td>\n",
       "    </tr>\n",
       "    <tr>\n",
       "      <th>74</th>\n",
       "      <td>No me gusto la verdad 😩</td>\n",
       "    </tr>\n",
       "    <tr>\n",
       "      <th>77</th>\n",
       "      <td>colonia de dj mario 😮‍💨</td>\n",
       "    </tr>\n",
       "    <tr>\n",
       "      <th>78</th>\n",
       "      <td>o me sigue y te paso uno mejor ☺️</td>\n",
       "    </tr>\n",
       "    <tr>\n",
       "      <th>111</th>\n",
       "      <td>precio para mi hijo quiero 🥺</td>\n",
       "    </tr>\n",
       "    <tr>\n",
       "      <th>125</th>\n",
       "      <td>Mano lo compré y mis amigos decían que olía a ...</td>\n",
       "    </tr>\n",
       "  </tbody>\n",
       "</table>\n",
       "</div>"
      ],
      "text/plain": [
       "                                               comment\n",
       "1      Si lo dice Flavia laos prefiero usar Yanbal 😅😅😅\n",
       "4    El olor no perdura, pero si huele muy rico, mu...\n",
       "7                             400 so quien dice Yooo ❓\n",
       "9                yo soy fiel a mi Axe de chocolate 😌😌😌\n",
       "12         gente sean sincero le gana al one millon?🤔🤔\n",
       "74                             No me gusto la verdad 😩\n",
       "77                             colonia de dj mario 😮‍💨\n",
       "78                   o me sigue y te paso uno mejor ☺️\n",
       "111                       precio para mi hijo quiero 🥺\n",
       "125  Mano lo compré y mis amigos decían que olía a ..."
      ]
     },
     "execution_count": 22,
     "metadata": {},
     "output_type": "execute_result"
    }
   ],
   "source": [
    "has_emoji = df['comment'].apply(lambda x: any(char in emoji.EMOJI_DATA for char in x))\n",
    "df_with_emoji = df[has_emoji]\n",
    "\n",
    "df_with_emoji[['comment']].head(10)"
   ]
  },
  {
   "cell_type": "markdown",
   "id": "14dc4e91",
   "metadata": {},
   "source": [
    "Los emojis en solitario suelen contener emociones muy claras (amor, risa, tristeza, enojo), por lo que si no los traducimos, se perdería esa información clave."
   ]
  },
  {
   "cell_type": "code",
   "execution_count": 23,
   "id": "954df800",
   "metadata": {},
   "outputs": [],
   "source": [
    "from review_analyzer.dataset import clean_basic_text_preserve_emojis"
   ]
  },
  {
   "cell_type": "code",
   "execution_count": 24,
   "id": "dc402a3c",
   "metadata": {},
   "outputs": [
    {
     "data": {
      "text/html": [
       "<div>\n",
       "<style scoped>\n",
       "    .dataframe tbody tr th:only-of-type {\n",
       "        vertical-align: middle;\n",
       "    }\n",
       "\n",
       "    .dataframe tbody tr th {\n",
       "        vertical-align: top;\n",
       "    }\n",
       "\n",
       "    .dataframe thead th {\n",
       "        text-align: right;\n",
       "    }\n",
       "</style>\n",
       "<table border=\"1\" class=\"dataframe\">\n",
       "  <thead>\n",
       "    <tr style=\"text-align: right;\">\n",
       "      <th></th>\n",
       "      <th>user</th>\n",
       "      <th>comment</th>\n",
       "      <th>time</th>\n",
       "      <th>likes</th>\n",
       "      <th>reply_count</th>\n",
       "      <th>origen</th>\n",
       "      <th>comment_length</th>\n",
       "      <th>comment_cleaned</th>\n",
       "    </tr>\n",
       "  </thead>\n",
       "  <tbody>\n",
       "    <tr>\n",
       "      <th>0</th>\n",
       "      <td>Joel Equiño Espinoza.</td>\n",
       "      <td>le gana sauvage dior ufff perfumaso .</td>\n",
       "      <td>2025-02-21 10:25:01</td>\n",
       "      <td>296</td>\n",
       "      <td>28</td>\n",
       "      <td>comments-perfume.csv</td>\n",
       "      <td>37</td>\n",
       "      <td>le gana sauvage dior ufff perfumaso.</td>\n",
       "    </tr>\n",
       "    <tr>\n",
       "      <th>1</th>\n",
       "      <td>Klaus Heinz</td>\n",
       "      <td>Si lo dice Flavia laos prefiero usar Yanbal 😅😅😅</td>\n",
       "      <td>2025-02-21 19:53:11</td>\n",
       "      <td>400</td>\n",
       "      <td>15</td>\n",
       "      <td>comments-perfume.csv</td>\n",
       "      <td>47</td>\n",
       "      <td>Si lo dice Flavia laos prefiero usar Yanbal</td>\n",
       "    </tr>\n",
       "    <tr>\n",
       "      <th>2</th>\n",
       "      <td>jozahel</td>\n",
       "      <td>Me dejan el precio ? No me dejen su Wsp que no...</td>\n",
       "      <td>2025-02-21 08:29:51</td>\n",
       "      <td>337</td>\n",
       "      <td>38</td>\n",
       "      <td>comments-perfume.csv</td>\n",
       "      <td>99</td>\n",
       "      <td>Me dejan el precio? No me dejen su Wsp que no ...</td>\n",
       "    </tr>\n",
       "    <tr>\n",
       "      <th>3</th>\n",
       "      <td>Pilar Acha Mendez</td>\n",
       "      <td>Cuál es su precio?</td>\n",
       "      <td>2025-02-21 20:20:06</td>\n",
       "      <td>4</td>\n",
       "      <td>11</td>\n",
       "      <td>comments-perfume.csv</td>\n",
       "      <td>18</td>\n",
       "      <td>Cuál es su precio?</td>\n",
       "    </tr>\n",
       "    <tr>\n",
       "      <th>4</th>\n",
       "      <td>Bas 🫀</td>\n",
       "      <td>El olor no perdura, pero si huele muy rico, mu...</td>\n",
       "      <td>2025-02-21 10:56:35</td>\n",
       "      <td>15</td>\n",
       "      <td>23</td>\n",
       "      <td>comments-perfume.csv</td>\n",
       "      <td>126</td>\n",
       "      <td>El olor no perdura, pero si huele muy rico, mu...</td>\n",
       "    </tr>\n",
       "  </tbody>\n",
       "</table>\n",
       "</div>"
      ],
      "text/plain": [
       "                    user                                            comment  \\\n",
       "0  Joel Equiño Espinoza.              le gana sauvage dior ufff perfumaso .   \n",
       "1            Klaus Heinz    Si lo dice Flavia laos prefiero usar Yanbal 😅😅😅   \n",
       "2                jozahel  Me dejan el precio ? No me dejen su Wsp que no...   \n",
       "3      Pilar Acha Mendez                                 Cuál es su precio?   \n",
       "4                  Bas 🫀  El olor no perdura, pero si huele muy rico, mu...   \n",
       "\n",
       "                  time  likes  reply_count                origen  \\\n",
       "0  2025-02-21 10:25:01    296           28  comments-perfume.csv   \n",
       "1  2025-02-21 19:53:11    400           15  comments-perfume.csv   \n",
       "2  2025-02-21 08:29:51    337           38  comments-perfume.csv   \n",
       "3  2025-02-21 20:20:06      4           11  comments-perfume.csv   \n",
       "4  2025-02-21 10:56:35     15           23  comments-perfume.csv   \n",
       "\n",
       "   comment_length                                    comment_cleaned  \n",
       "0              37               le gana sauvage dior ufff perfumaso.  \n",
       "1              47        Si lo dice Flavia laos prefiero usar Yanbal  \n",
       "2              99  Me dejan el precio? No me dejen su Wsp que no ...  \n",
       "3              18                                 Cuál es su precio?  \n",
       "4             126  El olor no perdura, pero si huele muy rico, mu...  "
      ]
     },
     "execution_count": 24,
     "metadata": {},
     "output_type": "execute_result"
    }
   ],
   "source": [
    "df['comment_cleaned'] = df['comment'].apply(clean_basic_text_preserve_emojis)\n",
    "df.head()"
   ]
  },
  {
   "cell_type": "code",
   "execution_count": 25,
   "id": "dee0b50b",
   "metadata": {},
   "outputs": [],
   "source": [
    "df['comment'] = df['comment_cleaned']\n",
    "df.drop(columns=['comment_cleaned'], inplace=True)"
   ]
  },
  {
   "cell_type": "code",
   "execution_count": 26,
   "id": "1b73fb39",
   "metadata": {},
   "outputs": [
    {
     "data": {
      "text/plain": [
       "(4651, 7)"
      ]
     },
     "execution_count": 26,
     "metadata": {},
     "output_type": "execute_result"
    }
   ],
   "source": [
    "df.shape"
   ]
  },
  {
   "cell_type": "code",
   "execution_count": 27,
   "id": "f5721a43",
   "metadata": {},
   "outputs": [],
   "source": [
    "df['word_count'] = df['comment'].str.split().apply(len)"
   ]
  },
  {
   "cell_type": "code",
   "execution_count": 28,
   "id": "4ac05e50",
   "metadata": {},
   "outputs": [
    {
     "data": {
      "text/html": [
       "<div>\n",
       "<style scoped>\n",
       "    .dataframe tbody tr th:only-of-type {\n",
       "        vertical-align: middle;\n",
       "    }\n",
       "\n",
       "    .dataframe tbody tr th {\n",
       "        vertical-align: top;\n",
       "    }\n",
       "\n",
       "    .dataframe thead th {\n",
       "        text-align: right;\n",
       "    }\n",
       "</style>\n",
       "<table border=\"1\" class=\"dataframe\">\n",
       "  <thead>\n",
       "    <tr style=\"text-align: right;\">\n",
       "      <th></th>\n",
       "      <th>comment</th>\n",
       "    </tr>\n",
       "  </thead>\n",
       "  <tbody>\n",
       "    <tr>\n",
       "      <th>4647</th>\n",
       "      <td>Es delicioso</td>\n",
       "    </tr>\n",
       "    <tr>\n",
       "      <th>334</th>\n",
       "      <td>Precio</td>\n",
       "    </tr>\n",
       "    <tr>\n",
       "      <th>522</th>\n",
       "      <td>Precio bro?</td>\n",
       "    </tr>\n",
       "    <tr>\n",
       "      <th>1388</th>\n",
       "      <td></td>\n",
       "    </tr>\n",
       "    <tr>\n",
       "      <th>4328</th>\n",
       "      <td>Witsel Mejia Dy</td>\n",
       "    </tr>\n",
       "    <tr>\n",
       "      <th>2590</th>\n",
       "      <td>richarlizon</td>\n",
       "    </tr>\n",
       "    <tr>\n",
       "      <th>341</th>\n",
       "      <td>Perfume</td>\n",
       "    </tr>\n",
       "    <tr>\n",
       "      <th>4451</th>\n",
       "      <td>precio</td>\n",
       "    </tr>\n",
       "    <tr>\n",
       "      <th>1905</th>\n",
       "      <td>en este Casio?</td>\n",
       "    </tr>\n",
       "    <tr>\n",
       "      <th>2350</th>\n",
       "      <td></td>\n",
       "    </tr>\n",
       "    <tr>\n",
       "      <th>370</th>\n",
       "      <td>Ayudé a perfeccionar.</td>\n",
       "    </tr>\n",
       "    <tr>\n",
       "      <th>4288</th>\n",
       "      <td>photo</td>\n",
       "    </tr>\n",
       "    <tr>\n",
       "      <th>2581</th>\n",
       "      <td>precio</td>\n",
       "    </tr>\n",
       "    <tr>\n",
       "      <th>946</th>\n",
       "      <td>perfume</td>\n",
       "    </tr>\n",
       "    <tr>\n",
       "      <th>2951</th>\n",
       "      <td>Santos Lizana L</td>\n",
       "    </tr>\n",
       "    <tr>\n",
       "      <th>410</th>\n",
       "      <td>Precio</td>\n",
       "    </tr>\n",
       "    <tr>\n",
       "      <th>3424</th>\n",
       "      <td>Quiero yo uno</td>\n",
       "    </tr>\n",
       "    <tr>\n",
       "      <th>988</th>\n",
       "      <td>información</td>\n",
       "    </tr>\n",
       "    <tr>\n",
       "      <th>1327</th>\n",
       "      <td></td>\n",
       "    </tr>\n",
       "    <tr>\n",
       "      <th>1323</th>\n",
       "      <td></td>\n",
       "    </tr>\n",
       "  </tbody>\n",
       "</table>\n",
       "</div>"
      ],
      "text/plain": [
       "                    comment\n",
       "4647           Es delicioso\n",
       "334                  Precio\n",
       "522             Precio bro?\n",
       "1388                       \n",
       "4328        Witsel Mejia Dy\n",
       "2590            richarlizon\n",
       "341                 Perfume\n",
       "4451                 precio\n",
       "1905         en este Casio?\n",
       "2350                       \n",
       "370   Ayudé a perfeccionar.\n",
       "4288                  photo\n",
       "2581                 precio\n",
       "946                 perfume\n",
       "2951        Santos Lizana L\n",
       "410                  Precio\n",
       "3424          Quiero yo uno\n",
       "988             información\n",
       "1327                       \n",
       "1323                       "
      ]
     },
     "execution_count": 28,
     "metadata": {},
     "output_type": "execute_result"
    }
   ],
   "source": [
    "df[df['word_count'] < 5][['comment']].sample(20, random_state=42)"
   ]
  },
  {
   "cell_type": "code",
   "execution_count": 29,
   "id": "b39aacf0",
   "metadata": {},
   "outputs": [],
   "source": [
    "word_count = 20\n",
    "samples = 20"
   ]
  },
  {
   "cell_type": "code",
   "execution_count": 30,
   "id": "ffda6537",
   "metadata": {},
   "outputs": [
    {
     "name": "stdout",
     "output_type": "stream",
     "text": [
      "son fake así no vienen esas jordan 4 retro yo me compre una acá en la misma nike acá en eeuu y es diferente \n",
      "--------------------------------------------------------------------------------\n",
      "la verdad si son buenas pero hay de calidad buena y mala la verdad el mejor peeo mas caro es Sony despues LG \n",
      "--------------------------------------------------------------------------------\n",
      "yo lo tengo y me encanta. ahora comprendo, tengo 50 años. aún así, hay que recordar que depende mucho de nuestro PH!. bendiciones hermosas!! \n",
      "--------------------------------------------------------------------------------\n",
      "El primero me encanta, te lo he visto y lo he buscado en amazon, lo he comprado por 53! Gracias amigo! \n",
      "--------------------------------------------------------------------------------\n",
      "todas las marcas de televisiónes tienes sus gamas de entrada, media y premium TODAS. no pueden comparar una gama de entrada de x marca con una gama premium. Al final siempre va ganar LG en tecnología. \n",
      "--------------------------------------------------------------------------------\n",
      "Hola yo tengo una 85 u HD cristal, roku me dice que debo cambiar a 4k 60 fps pero no sé cómo \n",
      "--------------------------------------------------------------------------------\n",
      "no es para el calor de lima, varios se fueron de cara solo por ese video y tiraron la money, guarden su perfume para invierno nomás si es que hay \n",
      "--------------------------------------------------------------------------------\n",
      "por alguna razón el mio se iso amarillo color cobre I no megusta el aolor talves se echo aperder el chabacano \n",
      "--------------------------------------------------------------------------------\n",
      "es muy feoxd, me lo compré con toda la ilusión del mundo y cuando lo olí me dio ganas de devolver xd. \n",
      "--------------------------------------------------------------------------------\n",
      "jajaja tanto le hacía ilusion al perfume y terminó oliendo a perfume de avon no me gustó nada o quizá no es mi estilo \n",
      "--------------------------------------------------------------------------------\n",
      "Yo me compré una Samsung de 70 pulgadas y lo que más me gusta es que ningún reflejo resalta en la pantalla y la calidad es sublime \n",
      "--------------------------------------------------------------------------------\n",
      "viendo comentarios... quisiera una tv de gama entrada (5000 - 10000 MXN) lg o Samsung? TCL? Hisense? me llama la atención la Samsung Crystal UHD, o la LG Ai Thinq gracias:) \n",
      "--------------------------------------------------------------------------------\n",
      "EFR-S567 con cristal sátiro diamante negro ese lo tiene un tío y esta muy elegante la verdad el casio es una marca de años con los mejores relojes para mi \n",
      "--------------------------------------------------------------------------------\n",
      "huele riquísimo, las que dicen que no dura el aroma será que no es el original, por que el original huele rico y dura bastante \n",
      "--------------------------------------------------------------------------------\n",
      "Algunos se confunden con otras porque oli como 3 o 4 con la misma botella pero solo uno era taaaam rico el olor diosmio, lamentablemente donde vivo el precio es de 250 dólares \n",
      "--------------------------------------------------------------------------------\n",
      "Hermosos relojes, sin embargo reclamar por los nombres cuando tienen a “Lobezno” y “Onda Vital” me parece por lo poco, pícaro! Saludos desde chile \n",
      "--------------------------------------------------------------------------------\n",
      "Sony mejor de todas, Samsung limitado por un sistema de ellos q no tiene android y pocas durabilidad una Sony es para miles de años \n",
      "--------------------------------------------------------------------------------\n",
      "no lo compren si no lo han calado antes, esa madre no se compra a ciegas, no es un holor para todos \n",
      "--------------------------------------------------------------------------------\n",
      "TODOS LOS SANSUNG QUE E TENIDO SE ME HAN DAÑADO TABLETS SMARTV MOBILES NO ME GUSTAN PARA NADA MEJOR UN LG LLEVO 2 SMARTV 1 PLASMA DE 20 AÑOS Y FUNCIONA DE MARAVILLA Y SE VE MUY BIEN CON FIRETV 4K \n",
      "--------------------------------------------------------------------------------\n",
      "trabajo en LG y las televisiones de Samsung son de una calidad horrible. Si certificado se lo hacen ellos y no por otras instituciones especialidas Jajajajaj \n",
      "--------------------------------------------------------------------------------\n"
     ]
    }
   ],
   "source": [
    "subset = df[df['word_count'] > word_count][['comment']].sample(20, random_state=42)\n",
    "for c in subset['comment']:\n",
    "    print(c, '\\n' + '-' * 80)"
   ]
  },
  {
   "cell_type": "markdown",
   "id": "6ed9b019",
   "metadata": {},
   "source": [
    "Comentarios muy cortos (<3 palabras) → si son solo emojis, se conservan; si son palabras genéricas, pueden filtrarse por baja relevancia.\n",
    "\n",
    "Comentarios muy largos (>100 palabras) → aunque raros, muestran opiniones detalladas con carga emocional; se conservan tras revisión, no se eliminan automáticamente."
   ]
  },
  {
   "cell_type": "code",
   "execution_count": 31,
   "id": "ff1006e9",
   "metadata": {},
   "outputs": [
    {
     "data": {
      "text/html": [
       "<div>\n",
       "<style scoped>\n",
       "    .dataframe tbody tr th:only-of-type {\n",
       "        vertical-align: middle;\n",
       "    }\n",
       "\n",
       "    .dataframe tbody tr th {\n",
       "        vertical-align: top;\n",
       "    }\n",
       "\n",
       "    .dataframe thead th {\n",
       "        text-align: right;\n",
       "    }\n",
       "</style>\n",
       "<table border=\"1\" class=\"dataframe\">\n",
       "  <thead>\n",
       "    <tr style=\"text-align: right;\">\n",
       "      <th></th>\n",
       "      <th>user</th>\n",
       "      <th>comment</th>\n",
       "      <th>time</th>\n",
       "      <th>likes</th>\n",
       "      <th>reply_count</th>\n",
       "      <th>origen</th>\n",
       "      <th>comment_length</th>\n",
       "      <th>word_count</th>\n",
       "    </tr>\n",
       "  </thead>\n",
       "  <tbody>\n",
       "    <tr>\n",
       "      <th>0</th>\n",
       "      <td>Joel Equiño Espinoza.</td>\n",
       "      <td>le gana sauvage dior ufff perfumaso.</td>\n",
       "      <td>2025-02-21 10:25:01</td>\n",
       "      <td>296</td>\n",
       "      <td>28</td>\n",
       "      <td>comments-perfume.csv</td>\n",
       "      <td>37</td>\n",
       "      <td>6</td>\n",
       "    </tr>\n",
       "    <tr>\n",
       "      <th>1</th>\n",
       "      <td>Klaus Heinz</td>\n",
       "      <td>Si lo dice Flavia laos prefiero usar Yanbal</td>\n",
       "      <td>2025-02-21 19:53:11</td>\n",
       "      <td>400</td>\n",
       "      <td>15</td>\n",
       "      <td>comments-perfume.csv</td>\n",
       "      <td>47</td>\n",
       "      <td>8</td>\n",
       "    </tr>\n",
       "    <tr>\n",
       "      <th>2</th>\n",
       "      <td>jozahel</td>\n",
       "      <td>Me dejan el precio? No me dejen su Wsp que no ...</td>\n",
       "      <td>2025-02-21 08:29:51</td>\n",
       "      <td>337</td>\n",
       "      <td>38</td>\n",
       "      <td>comments-perfume.csv</td>\n",
       "      <td>99</td>\n",
       "      <td>19</td>\n",
       "    </tr>\n",
       "    <tr>\n",
       "      <th>3</th>\n",
       "      <td>Pilar Acha Mendez</td>\n",
       "      <td>Cuál es su precio?</td>\n",
       "      <td>2025-02-21 20:20:06</td>\n",
       "      <td>4</td>\n",
       "      <td>11</td>\n",
       "      <td>comments-perfume.csv</td>\n",
       "      <td>18</td>\n",
       "      <td>4</td>\n",
       "    </tr>\n",
       "    <tr>\n",
       "      <th>4</th>\n",
       "      <td>Bas 🫀</td>\n",
       "      <td>El olor no perdura, pero si huele muy rico, mu...</td>\n",
       "      <td>2025-02-21 10:56:35</td>\n",
       "      <td>15</td>\n",
       "      <td>23</td>\n",
       "      <td>comments-perfume.csv</td>\n",
       "      <td>126</td>\n",
       "      <td>25</td>\n",
       "    </tr>\n",
       "  </tbody>\n",
       "</table>\n",
       "</div>"
      ],
      "text/plain": [
       "                    user                                            comment  \\\n",
       "0  Joel Equiño Espinoza.               le gana sauvage dior ufff perfumaso.   \n",
       "1            Klaus Heinz        Si lo dice Flavia laos prefiero usar Yanbal   \n",
       "2                jozahel  Me dejan el precio? No me dejen su Wsp que no ...   \n",
       "3      Pilar Acha Mendez                                 Cuál es su precio?   \n",
       "4                  Bas 🫀  El olor no perdura, pero si huele muy rico, mu...   \n",
       "\n",
       "                  time  likes  reply_count                origen  \\\n",
       "0  2025-02-21 10:25:01    296           28  comments-perfume.csv   \n",
       "1  2025-02-21 19:53:11    400           15  comments-perfume.csv   \n",
       "2  2025-02-21 08:29:51    337           38  comments-perfume.csv   \n",
       "3  2025-02-21 20:20:06      4           11  comments-perfume.csv   \n",
       "4  2025-02-21 10:56:35     15           23  comments-perfume.csv   \n",
       "\n",
       "   comment_length  word_count  \n",
       "0              37           6  \n",
       "1              47           8  \n",
       "2              99          19  \n",
       "3              18           4  \n",
       "4             126          25  "
      ]
     },
     "execution_count": 31,
     "metadata": {},
     "output_type": "execute_result"
    }
   ],
   "source": [
    "df.head()"
   ]
  },
  {
   "cell_type": "markdown",
   "id": "8f9bb5b8",
   "metadata": {},
   "source": [
    "### Extracción de embeddings BERT\n",
    "\n",
    "En este paso usamos un modelo BERT para convertir los comentarios textuales en representaciones numéricas (embeddings). \n",
    "\n",
    "Estos vectores capturan información semántica, incluyendo contexto, tono y significado, y servirán como entrada para los modelos de análisis emocional.\n"
   ]
  },
  {
   "cell_type": "code",
   "execution_count": 32,
   "id": "3257a15a",
   "metadata": {},
   "outputs": [],
   "source": [
    "from review_analyzer.dataset import extract_bert_embeddings"
   ]
  },
  {
   "cell_type": "code",
   "execution_count": 36,
   "id": "2e4b911e",
   "metadata": {},
   "outputs": [],
   "source": [
    "comments = df['comment'].tolist()"
   ]
  },
  {
   "cell_type": "code",
   "execution_count": 38,
   "id": "6b0e0b4c",
   "metadata": {},
   "outputs": [],
   "source": [
    "bert_embeddings = extract_bert_embeddings(comments, batch_size=16)"
   ]
  },
  {
   "cell_type": "code",
   "execution_count": 41,
   "id": "668b3b53",
   "metadata": {},
   "outputs": [],
   "source": [
    "from review_analyzer.config import BERT_EMBEDDINGS"
   ]
  },
  {
   "cell_type": "code",
   "execution_count": 40,
   "id": "b931bc67",
   "metadata": {},
   "outputs": [],
   "source": [
    "import numpy as np"
   ]
  },
  {
   "cell_type": "code",
   "execution_count": 42,
   "id": "97812f3c",
   "metadata": {},
   "outputs": [],
   "source": [
    "np.save(BERT_EMBEDDINGS, bert_embeddings)"
   ]
  },
  {
   "cell_type": "markdown",
   "id": "698d717d",
   "metadata": {},
   "source": [
    "#### Resumen\n",
    "\n",
    "El dataset ha sido limpiado y preprocesado para usar con BERT:\n",
    "- Solo limpieza mínima aplicada (URLs, hashtags, menciones).\n",
    "- Emojis y mayúsculas preservados.\n",
    "- No se aplicó stopword removal, lematización ni tokenización manual.\n",
    "- Embeddings BERT generados y guardados."
   ]
  },
  {
   "cell_type": "markdown",
   "id": "ef6bea6a",
   "metadata": {},
   "source": [
    "# 4. Análisis Exploratorio de Datos (EDA)\n",
    "\n",
    "Comprender el dataset y su distribución para tomar decisiones del modelo."
   ]
  },
  {
   "cell_type": "code",
   "execution_count": null,
   "id": "f0498e38",
   "metadata": {},
   "outputs": [],
   "source": []
  },
  {
   "cell_type": "code",
   "execution_count": null,
   "id": "d5995a44",
   "metadata": {},
   "outputs": [],
   "source": []
  },
  {
   "cell_type": "code",
   "execution_count": null,
   "id": "f050803d",
   "metadata": {},
   "outputs": [
    {
     "data": {
      "text/plain": [
       "user                             ab_17\n",
       "comment               Sotelo la boca 😣\n",
       "time               2025-03-28 23:44:36\n",
       "likes                                1\n",
       "reply_count                          0\n",
       "origen            comments-perfume.csv\n",
       "comment_length                      24\n",
       "word_count                           4\n",
       "Name: 419, dtype: object"
      ]
     },
     "execution_count": 60,
     "metadata": {},
     "output_type": "execute_result"
    }
   ],
   "source": [
    "df.iloc[419]"
   ]
  },
  {
   "cell_type": "code",
   "execution_count": null,
   "id": "98dbe2cc",
   "metadata": {},
   "outputs": [],
   "source": []
  },
  {
   "cell_type": "code",
   "execution_count": null,
   "id": "aec56e09",
   "metadata": {},
   "outputs": [],
   "source": []
  },
  {
   "cell_type": "code",
   "execution_count": null,
   "id": "4334feae",
   "metadata": {},
   "outputs": [],
   "source": []
  },
  {
   "cell_type": "code",
   "execution_count": null,
   "id": "70960d2a",
   "metadata": {},
   "outputs": [],
   "source": []
  },
  {
   "cell_type": "code",
   "execution_count": null,
   "id": "a98f5682",
   "metadata": {},
   "outputs": [],
   "source": []
  },
  {
   "cell_type": "code",
   "execution_count": null,
   "id": "0b4359f2",
   "metadata": {},
   "outputs": [],
   "source": []
  },
  {
   "cell_type": "code",
   "execution_count": null,
   "id": "9a7beb9b",
   "metadata": {},
   "outputs": [],
   "source": []
  }
 ],
 "metadata": {
  "kernelspec": {
   "display_name": "venv",
   "language": "python",
   "name": "python3"
  },
  "language_info": {
   "codemirror_mode": {
    "name": "ipython",
    "version": 3
   },
   "file_extension": ".py",
   "mimetype": "text/x-python",
   "name": "python",
   "nbconvert_exporter": "python",
   "pygments_lexer": "ipython3",
   "version": "3.11.9"
  }
 },
 "nbformat": 4,
 "nbformat_minor": 5
}
